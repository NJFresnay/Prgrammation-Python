{
 "cells": [
  {
   "cell_type": "code",
   "execution_count": 8,
   "id": "c4a3a830",
   "metadata": {},
   "outputs": [
    {
     "name": "stdout",
     "output_type": "stream",
     "text": [
      "[3, 4, 5, 6, 7, 8, 9, 10, 11]\n"
     ]
    },
    {
     "data": {
      "text/plain": [
       "[11, 10, 9, 8]"
      ]
     },
     "execution_count": 8,
     "metadata": {},
     "output_type": "execute_result"
    }
   ],
   "source": [
    "a=list(range(3,12))\n",
    "print(a)\n",
    "a[0::3]\n",
    "a[-1:-5:-1]"
   ]
  },
  {
   "cell_type": "code",
   "execution_count": 11,
   "id": "d3f73d60",
   "metadata": {},
   "outputs": [],
   "source": [
    "a[0::3]= ['a','b','c']"
   ]
  },
  {
   "cell_type": "code",
   "execution_count": 12,
   "id": "0931cf48",
   "metadata": {},
   "outputs": [
    {
     "name": "stdout",
     "output_type": "stream",
     "text": [
      "['a', 'b', 'c']\n"
     ]
    }
   ],
   "source": [
    "print(a[0::3])"
   ]
  },
  {
   "cell_type": "code",
   "execution_count": 13,
   "id": "12a3de0e",
   "metadata": {},
   "outputs": [
    {
     "name": "stdout",
     "output_type": "stream",
     "text": [
      "['a', 4, 5, 'b', 7, 8, 'c', 10, 11]\n"
     ]
    }
   ],
   "source": [
    "print(a)"
   ]
  },
  {
   "cell_type": "code",
   "execution_count": 15,
   "id": "d92a4d6c",
   "metadata": {},
   "outputs": [],
   "source": [
    "a.append([\"Bonjour le monde\"])"
   ]
  },
  {
   "cell_type": "code",
   "execution_count": 21,
   "id": "c5e09265",
   "metadata": {},
   "outputs": [
    {
     "name": "stdout",
     "output_type": "stream",
     "text": [
      "JJ\n",
      "ee\n",
      "nn\n",
      "nn\n",
      "ii\n",
      "ff\n",
      "ee\n",
      "rr\n",
      "  \n",
      "FF\n",
      "rr\n",
      "ee\n",
      "ss\n",
      "nn\n",
      "aa\n",
      "yy\n"
     ]
    }
   ],
   "source": [
    "for i in \"Jennifer Fresnay\":\n",
    "    print(i+i)"
   ]
  },
  {
   "cell_type": "markdown",
   "id": "8e2cc6da",
   "metadata": {},
   "source": [
    "### Ecrire dans un fichier\n"
   ]
  },
  {
   "cell_type": "code",
   "execution_count": 2,
   "id": "1780ffcf",
   "metadata": {},
   "outputs": [],
   "source": [
    "liste = [\"Médor\", \"félix\",\"mirza\"]\n",
    "with open(\"animaux.txt\",\"w\") as file:\n",
    "    for nom in liste :\n",
    "        file.write(nom)\n",
    "        file.write(\"\\n\")"
   ]
  },
  {
   "cell_type": "code",
   "execution_count": null,
   "id": "0053cb9f",
   "metadata": {},
   "outputs": [],
   "source": []
  }
 ],
 "metadata": {
  "kernelspec": {
   "display_name": "Python 3 (ipykernel)",
   "language": "python",
   "name": "python3"
  },
  "language_info": {
   "codemirror_mode": {
    "name": "ipython",
    "version": 3
   },
   "file_extension": ".py",
   "mimetype": "text/x-python",
   "name": "python",
   "nbconvert_exporter": "python",
   "pygments_lexer": "ipython3",
   "version": "3.11.3"
  }
 },
 "nbformat": 4,
 "nbformat_minor": 5
}
