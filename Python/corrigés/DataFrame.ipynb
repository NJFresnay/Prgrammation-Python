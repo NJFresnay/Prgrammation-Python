{
 "cells": [
  {
   "cell_type": "code",
   "execution_count": 1,
   "id": "24b29e3a",
   "metadata": {},
   "outputs": [],
   "source": [
    "import pandas as pd"
   ]
  },
  {
   "cell_type": "code",
   "execution_count": 4,
   "id": "bb412479",
   "metadata": {},
   "outputs": [],
   "source": [
    "Dict = {\"Age\": pd.Series([25, 30, 35], index=[\"Sylvie\", \"Gilles\", \"Sylvain\"]),\n",
    "         \"Ville\": pd.Series([\"Lorient\", \"Angers\", \"Vannes\", \"Le Mans\"], index=[\"Sylvie\", \"Gilles\", \"Sylvain\", \"Thomas\"])}"
   ]
  },
  {
   "cell_type": "code",
   "execution_count": 5,
   "id": "1138cc61",
   "metadata": {},
   "outputs": [
    {
     "data": {
      "text/plain": [
       "{'Age': Sylvie     25\n",
       " Gilles     30\n",
       " Sylvain    35\n",
       " dtype: int64,\n",
       " 'Ville': Sylvie     Lorient\n",
       " Gilles      Angers\n",
       " Sylvain     Vannes\n",
       " Thomas     Le Mans\n",
       " dtype: object}"
      ]
     },
     "execution_count": 5,
     "metadata": {},
     "output_type": "execute_result"
    }
   ],
   "source": [
    "Dict"
   ]
  },
  {
   "cell_type": "code",
   "execution_count": 6,
   "id": "816514d6",
   "metadata": {},
   "outputs": [
    {
     "data": {
      "text/html": [
       "<div>\n",
       "<style scoped>\n",
       "    .dataframe tbody tr th:only-of-type {\n",
       "        vertical-align: middle;\n",
       "    }\n",
       "\n",
       "    .dataframe tbody tr th {\n",
       "        vertical-align: top;\n",
       "    }\n",
       "\n",
       "    .dataframe thead th {\n",
       "        text-align: right;\n",
       "    }\n",
       "</style>\n",
       "<table border=\"1\" class=\"dataframe\">\n",
       "  <thead>\n",
       "    <tr style=\"text-align: right;\">\n",
       "      <th></th>\n",
       "      <th>Age</th>\n",
       "      <th>Ville</th>\n",
       "    </tr>\n",
       "  </thead>\n",
       "  <tbody>\n",
       "    <tr>\n",
       "      <th>Gilles</th>\n",
       "      <td>30.0</td>\n",
       "      <td>Angers</td>\n",
       "    </tr>\n",
       "    <tr>\n",
       "      <th>Sylvain</th>\n",
       "      <td>35.0</td>\n",
       "      <td>Vannes</td>\n",
       "    </tr>\n",
       "    <tr>\n",
       "      <th>Sylvie</th>\n",
       "      <td>25.0</td>\n",
       "      <td>Lorient</td>\n",
       "    </tr>\n",
       "    <tr>\n",
       "      <th>Thomas</th>\n",
       "      <td>NaN</td>\n",
       "      <td>Le Mans</td>\n",
       "    </tr>\n",
       "  </tbody>\n",
       "</table>\n",
       "</div>"
      ],
      "text/plain": [
       "          Age    Ville\n",
       "Gilles   30.0   Angers\n",
       "Sylvain  35.0   Vannes\n",
       "Sylvie   25.0  Lorient\n",
       "Thomas    NaN  Le Mans"
      ]
     },
     "execution_count": 6,
     "metadata": {},
     "output_type": "execute_result"
    }
   ],
   "source": [
    "DF = pd.DataFrame(Dict)\n",
    "DF"
   ]
  },
  {
   "cell_type": "code",
   "execution_count": 7,
   "id": "0acb081a",
   "metadata": {},
   "outputs": [
    {
     "name": "stdout",
     "output_type": "stream",
     "text": [
      "<class 'dict'>\n",
      "<class 'pandas.core.series.Series'>\n"
     ]
    }
   ],
   "source": [
    "print(type(Dict))\n",
    "print(type(Dict[\"Ville\"]))"
   ]
  },
  {
   "cell_type": "code",
   "execution_count": 8,
   "id": "0d2f0289",
   "metadata": {},
   "outputs": [
    {
     "name": "stdout",
     "output_type": "stream",
     "text": [
      "Index(['Gilles', 'Sylvain', 'Sylvie', 'Thomas'], dtype='object')\n",
      "Index(['Age', 'Ville'], dtype='object')\n"
     ]
    }
   ],
   "source": [
    "print(DF.index)\n",
    "print(DF.columns)"
   ]
  },
  {
   "cell_type": "code",
   "execution_count": 9,
   "id": "da3e8a9d",
   "metadata": {},
   "outputs": [],
   "source": [
    "Dict = {\"Prénom\": [\"Sylvie\", \"Gilles\", \"Sylvain\", \"Thomas\"], \"Age\": [25, 30, 35, 40]}"
   ]
  },
  {
   "cell_type": "code",
   "execution_count": 10,
   "id": "a039087b",
   "metadata": {},
   "outputs": [
    {
     "name": "stdout",
     "output_type": "stream",
     "text": [
      "    Prénom  Age\n",
      "0   Sylvie   25\n",
      "1   Gilles   30\n",
      "2  Sylvain   35\n",
      "3   Thomas   40\n"
     ]
    }
   ],
   "source": [
    "DF = pd.DataFrame(Dict)\n",
    "print(DF)"
   ]
  },
  {
   "cell_type": "code",
   "execution_count": 11,
   "id": "f42e270e",
   "metadata": {},
   "outputs": [
    {
     "name": "stdout",
     "output_type": "stream",
     "text": [
      "     Prénom  Age\n",
      "L1   Sylvie   25\n",
      "L2   Gilles   30\n",
      "L3  Sylvain   35\n",
      "L4   Thomas   40\n"
     ]
    }
   ],
   "source": [
    "DF = pd.DataFrame(Dict, index = [\"L1\", \"L2\", \"L3\", \"L4\"])\n",
    "print(DF)"
   ]
  },
  {
   "cell_type": "code",
   "execution_count": 13,
   "id": "8483a367",
   "metadata": {},
   "outputs": [
    {
     "name": "stdout",
     "output_type": "stream",
     "text": [
      "    Prénom  Age\n",
      "1   Sylvie   25\n",
      "2   Gilles   30\n",
      "3  Sylvain   35\n",
      "4   Thomas   40\n"
     ]
    }
   ],
   "source": [
    "DF = pd.DataFrame(Dict, index = range(1, 5))\n",
    "print(DF)"
   ]
  },
  {
   "cell_type": "code",
   "execution_count": 14,
   "id": "8f355035",
   "metadata": {},
   "outputs": [
    {
     "data": {
      "text/html": [
       "<div>\n",
       "<style scoped>\n",
       "    .dataframe tbody tr th:only-of-type {\n",
       "        vertical-align: middle;\n",
       "    }\n",
       "\n",
       "    .dataframe tbody tr th {\n",
       "        vertical-align: top;\n",
       "    }\n",
       "\n",
       "    .dataframe thead th {\n",
       "        text-align: right;\n",
       "    }\n",
       "</style>\n",
       "<table border=\"1\" class=\"dataframe\">\n",
       "  <thead>\n",
       "    <tr style=\"text-align: right;\">\n",
       "      <th></th>\n",
       "      <th>Age</th>\n",
       "      <th>Ville</th>\n",
       "    </tr>\n",
       "  </thead>\n",
       "  <tbody>\n",
       "    <tr>\n",
       "      <th>Gilles</th>\n",
       "      <td>30.0</td>\n",
       "      <td>Angers</td>\n",
       "    </tr>\n",
       "    <tr>\n",
       "      <th>Sylvain</th>\n",
       "      <td>35.0</td>\n",
       "      <td>Vannes</td>\n",
       "    </tr>\n",
       "    <tr>\n",
       "      <th>Sylvie</th>\n",
       "      <td>25.0</td>\n",
       "      <td>Lorient</td>\n",
       "    </tr>\n",
       "    <tr>\n",
       "      <th>Thomas</th>\n",
       "      <td>NaN</td>\n",
       "      <td>Le Mans</td>\n",
       "    </tr>\n",
       "  </tbody>\n",
       "</table>\n",
       "</div>"
      ],
      "text/plain": [
       "          Age    Ville\n",
       "Gilles   30.0   Angers\n",
       "Sylvain  35.0   Vannes\n",
       "Sylvie   25.0  Lorient\n",
       "Thomas    NaN  Le Mans"
      ]
     },
     "execution_count": 14,
     "metadata": {},
     "output_type": "execute_result"
    }
   ],
   "source": [
    "Dict = {\"Age\": pd.Series([25, 30, 35], index=[\"Sylvie\", \"Gilles\", \"Sylvain\"]),\n",
    "         \"Ville\": pd.Series([\"Lorient\", \"Angers\", \"Vannes\", \"Le Mans\"], index=[\"Sylvie\", \"Gilles\", \"Sylvain\", \"Thomas\"])}\n",
    "DF = pd.DataFrame(Dict)\n",
    "DF"
   ]
  },
  {
   "cell_type": "code",
   "execution_count": 15,
   "id": "569b5ab4",
   "metadata": {},
   "outputs": [
    {
     "data": {
      "text/plain": [
       "Gilles     30.0\n",
       "Sylvain    35.0\n",
       "Sylvie     25.0\n",
       "Thomas      NaN\n",
       "Name: Age, dtype: float64"
      ]
     },
     "execution_count": 15,
     "metadata": {},
     "output_type": "execute_result"
    }
   ],
   "source": [
    "DF[\"Age\"]"
   ]
  },
  {
   "cell_type": "code",
   "execution_count": 16,
   "id": "111e6156",
   "metadata": {},
   "outputs": [
    {
     "data": {
      "text/plain": [
       "Gilles     30.0\n",
       "Sylvain    35.0\n",
       "Sylvie     25.0\n",
       "Thomas      NaN\n",
       "Name: Age, dtype: float64"
      ]
     },
     "execution_count": 16,
     "metadata": {},
     "output_type": "execute_result"
    }
   ],
   "source": [
    "DF.Age"
   ]
  },
  {
   "cell_type": "code",
   "execution_count": 29,
   "id": "6068fef9",
   "metadata": {},
   "outputs": [
    {
     "name": "stdout",
     "output_type": "stream",
     "text": [
      "          Age    Ville\n",
      "Gilles   31.0   Angers\n",
      "Sylvain  35.0   Vannes\n",
      "Sylvie   25.0  Lorient\n",
      "Thomas    NaN  Le Mans\n",
      "*********************\n",
      "Age        31.0\n",
      "Ville    Angers\n",
      "Name: Gilles, dtype: object\n",
      "*********************\n",
      "Age        35.0\n",
      "Ville    Vannes\n",
      "Name: Sylvain, dtype: object\n"
     ]
    }
   ],
   "source": [
    "print(DF)\n",
    "print(\"*********************\")\n",
    "print(DF.loc[\"Gilles\"])\n",
    "print(\"*********************\")\n",
    "print(DF.iloc[1])"
   ]
  },
  {
   "cell_type": "code",
   "execution_count": 30,
   "id": "3c4b60e3",
   "metadata": {},
   "outputs": [
    {
     "name": "stdout",
     "output_type": "stream",
     "text": [
      "Lorient\n",
      "Lorient\n",
      "Lorient\n"
     ]
    }
   ],
   "source": [
    "print(DF[\"Ville\"][\"Sylvie\"])\n",
    "print(DF[\"Ville\"].loc[\"Sylvie\"])\n",
    "print(DF[\"Ville\"].iloc[2])"
   ]
  },
  {
   "cell_type": "code",
   "execution_count": 41,
   "id": "18f03c4f",
   "metadata": {},
   "outputs": [
    {
     "name": "stderr",
     "output_type": "stream",
     "text": [
      "/tmp/ipykernel_5557/367474900.py:1: SettingWithCopyWarning: \n",
      "A value is trying to be set on a copy of a slice from a DataFrame\n",
      "\n",
      "See the caveats in the documentation: https://pandas.pydata.org/pandas-docs/stable/user_guide/indexing.html#returning-a-view-versus-a-copy\n",
      "  DF[\"Age\"][\"Thomas\"] = 20\n",
      "/usr/lib64/python3.10/site-packages/pandas/core/indexing.py:1732: SettingWithCopyWarning: \n",
      "A value is trying to be set on a copy of a slice from a DataFrame\n",
      "\n",
      "See the caveats in the documentation: https://pandas.pydata.org/pandas-docs/stable/user_guide/indexing.html#returning-a-view-versus-a-copy\n",
      "  self._setitem_single_block(indexer, value, name)\n"
     ]
    },
    {
     "data": {
      "text/html": [
       "<div>\n",
       "<style scoped>\n",
       "    .dataframe tbody tr th:only-of-type {\n",
       "        vertical-align: middle;\n",
       "    }\n",
       "\n",
       "    .dataframe tbody tr th {\n",
       "        vertical-align: top;\n",
       "    }\n",
       "\n",
       "    .dataframe thead th {\n",
       "        text-align: right;\n",
       "    }\n",
       "</style>\n",
       "<table border=\"1\" class=\"dataframe\">\n",
       "  <thead>\n",
       "    <tr style=\"text-align: right;\">\n",
       "      <th></th>\n",
       "      <th>Age</th>\n",
       "      <th>Ville</th>\n",
       "    </tr>\n",
       "  </thead>\n",
       "  <tbody>\n",
       "    <tr>\n",
       "      <th>Gilles</th>\n",
       "      <td>34.0</td>\n",
       "      <td>Angers</td>\n",
       "    </tr>\n",
       "    <tr>\n",
       "      <th>Sylvain</th>\n",
       "      <td>35.0</td>\n",
       "      <td>Vannes</td>\n",
       "    </tr>\n",
       "    <tr>\n",
       "      <th>Sylvie</th>\n",
       "      <td>25.0</td>\n",
       "      <td>Lorient</td>\n",
       "    </tr>\n",
       "    <tr>\n",
       "      <th>Thomas</th>\n",
       "      <td>20.0</td>\n",
       "      <td>Le Mans</td>\n",
       "    </tr>\n",
       "  </tbody>\n",
       "</table>\n",
       "</div>"
      ],
      "text/plain": [
       "          Age    Ville\n",
       "Gilles   34.0   Angers\n",
       "Sylvain  35.0   Vannes\n",
       "Sylvie   25.0  Lorient\n",
       "Thomas   20.0  Le Mans"
      ]
     },
     "execution_count": 41,
     "metadata": {},
     "output_type": "execute_result"
    }
   ],
   "source": [
    "DF[\"Age\"][\"Thomas\"] = 20\n",
    "DF[\"Age\"].loc[\"Gilles\"] = 34\n",
    "DF"
   ]
  },
  {
   "cell_type": "code",
   "execution_count": 44,
   "id": "7959d17c",
   "metadata": {},
   "outputs": [
    {
     "data": {
      "text/html": [
       "<div>\n",
       "<style scoped>\n",
       "    .dataframe tbody tr th:only-of-type {\n",
       "        vertical-align: middle;\n",
       "    }\n",
       "\n",
       "    .dataframe tbody tr th {\n",
       "        vertical-align: top;\n",
       "    }\n",
       "\n",
       "    .dataframe thead th {\n",
       "        text-align: right;\n",
       "    }\n",
       "</style>\n",
       "<table border=\"1\" class=\"dataframe\">\n",
       "  <thead>\n",
       "    <tr style=\"text-align: right;\">\n",
       "      <th></th>\n",
       "      <th>Big data</th>\n",
       "      <th>Hadoop</th>\n",
       "      <th>Spark</th>\n",
       "      <th>Java</th>\n",
       "    </tr>\n",
       "  </thead>\n",
       "  <tbody>\n",
       "    <tr>\n",
       "      <th>Sylvie</th>\n",
       "      <td>11.0</td>\n",
       "      <td>18.0</td>\n",
       "      <td>15.0</td>\n",
       "      <td>18.0</td>\n",
       "    </tr>\n",
       "    <tr>\n",
       "      <th>Gilles</th>\n",
       "      <td>15.0</td>\n",
       "      <td>20.0</td>\n",
       "      <td>7.0</td>\n",
       "      <td>20.0</td>\n",
       "    </tr>\n",
       "    <tr>\n",
       "      <th>Sylvain</th>\n",
       "      <td>10.0</td>\n",
       "      <td>17.0</td>\n",
       "      <td>10.0</td>\n",
       "      <td>10.0</td>\n",
       "    </tr>\n",
       "    <tr>\n",
       "      <th>Thomas</th>\n",
       "      <td>10.0</td>\n",
       "      <td>18.0</td>\n",
       "      <td>20.0</td>\n",
       "      <td>8.0</td>\n",
       "    </tr>\n",
       "  </tbody>\n",
       "</table>\n",
       "</div>"
      ],
      "text/plain": [
       "         Big data  Hadoop  Spark  Java\n",
       "Sylvie       11.0    18.0   15.0  18.0\n",
       "Gilles       15.0    20.0    7.0  20.0\n",
       "Sylvain      10.0    17.0   10.0  10.0\n",
       "Thomas       10.0    18.0   20.0   8.0"
      ]
     },
     "execution_count": 44,
     "metadata": {},
     "output_type": "execute_result"
    }
   ],
   "source": [
    "DF_Notes = pd.DataFrame({\n",
    "         \"Big data\":  pd.Series([11.0, 15.0, 10.0,10.0], index=[\"Sylvie\", \"Gilles\", \"Sylvain\", \"Thomas\"]),\n",
    "         \"Hadoop\": pd.Series([18.0, 20.0, 17.0,18.0], index=[\"Sylvie\", \"Gilles\", \"Sylvain\", \"Thomas\"]),\n",
    "         \"Spark\": pd.Series([15.0, 7.0, 10.0,20.0], index=[\"Sylvie\", \"Gilles\", \"Sylvain\", \"Thomas\"]),\n",
    "         \"Java\": pd.Series([18.0, 20.0, 10.0,8.0], index=[\"Sylvie\", \"Gilles\", \"Sylvain\", \"Thomas\"])})\n",
    "DF_Notes"
   ]
  },
  {
   "cell_type": "code",
   "execution_count": 48,
   "id": "d0d8796f",
   "metadata": {},
   "outputs": [
    {
     "name": "stdout",
     "output_type": "stream",
     "text": [
      "Sylvie     62.0\n",
      "Gilles     62.0\n",
      "Sylvain    47.0\n",
      "Thomas     56.0\n",
      "dtype: float64\n",
      "Big data    46.0\n",
      "Hadoop      73.0\n",
      "Spark       52.0\n",
      "Java        56.0\n",
      "dtype: float64\n"
     ]
    }
   ],
   "source": [
    "print(DF_Notes.sum(axis=1))\n",
    "print(DF_Notes.sum(axis=0))"
   ]
  },
  {
   "cell_type": "code",
   "execution_count": 49,
   "id": "1d4cdd9e",
   "metadata": {},
   "outputs": [
    {
     "data": {
      "text/plain": [
       "Sylvie     15.50\n",
       "Gilles     15.50\n",
       "Sylvain    11.75\n",
       "Thomas     14.00\n",
       "dtype: float64"
      ]
     },
     "execution_count": 49,
     "metadata": {},
     "output_type": "execute_result"
    }
   ],
   "source": [
    "DF_Notes.mean(axis=1)"
   ]
  },
  {
   "cell_type": "code",
   "execution_count": 51,
   "id": "62d2e955",
   "metadata": {},
   "outputs": [
    {
     "data": {
      "text/plain": [
       "Sylvie     11.0\n",
       "Gilles      7.0\n",
       "Sylvain    10.0\n",
       "Thomas      8.0\n",
       "dtype: float64"
      ]
     },
     "execution_count": 51,
     "metadata": {},
     "output_type": "execute_result"
    }
   ],
   "source": [
    "DF_Notes.min(axis=1)"
   ]
  },
  {
   "cell_type": "code",
   "execution_count": 52,
   "id": "0d3f1a90",
   "metadata": {},
   "outputs": [
    {
     "data": {
      "text/plain": [
       "Sylvie     18.0\n",
       "Gilles     20.0\n",
       "Sylvain    17.0\n",
       "Thomas     20.0\n",
       "dtype: float64"
      ]
     },
     "execution_count": 52,
     "metadata": {},
     "output_type": "execute_result"
    }
   ],
   "source": [
    "DF_Notes.max(axis=1)"
   ]
  },
  {
   "cell_type": "code",
   "execution_count": 53,
   "id": "9b572481",
   "metadata": {},
   "outputs": [
    {
     "data": {
      "text/html": [
       "<div>\n",
       "<style scoped>\n",
       "    .dataframe tbody tr th:only-of-type {\n",
       "        vertical-align: middle;\n",
       "    }\n",
       "\n",
       "    .dataframe tbody tr th {\n",
       "        vertical-align: top;\n",
       "    }\n",
       "\n",
       "    .dataframe thead th {\n",
       "        text-align: right;\n",
       "    }\n",
       "</style>\n",
       "<table border=\"1\" class=\"dataframe\">\n",
       "  <thead>\n",
       "    <tr style=\"text-align: right;\">\n",
       "      <th></th>\n",
       "      <th>Big data</th>\n",
       "      <th>Hadoop</th>\n",
       "      <th>Spark</th>\n",
       "      <th>Java</th>\n",
       "    </tr>\n",
       "  </thead>\n",
       "  <tbody>\n",
       "    <tr>\n",
       "      <th>count</th>\n",
       "      <td>4.000000</td>\n",
       "      <td>4.000000</td>\n",
       "      <td>4.000000</td>\n",
       "      <td>4.000000</td>\n",
       "    </tr>\n",
       "    <tr>\n",
       "      <th>mean</th>\n",
       "      <td>11.500000</td>\n",
       "      <td>18.250000</td>\n",
       "      <td>13.000000</td>\n",
       "      <td>14.000000</td>\n",
       "    </tr>\n",
       "    <tr>\n",
       "      <th>std</th>\n",
       "      <td>2.380476</td>\n",
       "      <td>1.258306</td>\n",
       "      <td>5.715476</td>\n",
       "      <td>5.887841</td>\n",
       "    </tr>\n",
       "    <tr>\n",
       "      <th>min</th>\n",
       "      <td>10.000000</td>\n",
       "      <td>17.000000</td>\n",
       "      <td>7.000000</td>\n",
       "      <td>8.000000</td>\n",
       "    </tr>\n",
       "    <tr>\n",
       "      <th>25%</th>\n",
       "      <td>10.000000</td>\n",
       "      <td>17.750000</td>\n",
       "      <td>9.250000</td>\n",
       "      <td>9.500000</td>\n",
       "    </tr>\n",
       "    <tr>\n",
       "      <th>50%</th>\n",
       "      <td>10.500000</td>\n",
       "      <td>18.000000</td>\n",
       "      <td>12.500000</td>\n",
       "      <td>14.000000</td>\n",
       "    </tr>\n",
       "    <tr>\n",
       "      <th>75%</th>\n",
       "      <td>12.000000</td>\n",
       "      <td>18.500000</td>\n",
       "      <td>16.250000</td>\n",
       "      <td>18.500000</td>\n",
       "    </tr>\n",
       "    <tr>\n",
       "      <th>max</th>\n",
       "      <td>15.000000</td>\n",
       "      <td>20.000000</td>\n",
       "      <td>20.000000</td>\n",
       "      <td>20.000000</td>\n",
       "    </tr>\n",
       "  </tbody>\n",
       "</table>\n",
       "</div>"
      ],
      "text/plain": [
       "        Big data     Hadoop      Spark       Java\n",
       "count   4.000000   4.000000   4.000000   4.000000\n",
       "mean   11.500000  18.250000  13.000000  14.000000\n",
       "std     2.380476   1.258306   5.715476   5.887841\n",
       "min    10.000000  17.000000   7.000000   8.000000\n",
       "25%    10.000000  17.750000   9.250000   9.500000\n",
       "50%    10.500000  18.000000  12.500000  14.000000\n",
       "75%    12.000000  18.500000  16.250000  18.500000\n",
       "max    15.000000  20.000000  20.000000  20.000000"
      ]
     },
     "execution_count": 53,
     "metadata": {},
     "output_type": "execute_result"
    }
   ],
   "source": [
    "DF_Notes.describe()"
   ]
  },
  {
   "cell_type": "code",
   "execution_count": 54,
   "id": "d8156a12",
   "metadata": {},
   "outputs": [
    {
     "data": {
      "text/html": [
       "<div>\n",
       "<style scoped>\n",
       "    .dataframe tbody tr th:only-of-type {\n",
       "        vertical-align: middle;\n",
       "    }\n",
       "\n",
       "    .dataframe tbody tr th {\n",
       "        vertical-align: top;\n",
       "    }\n",
       "\n",
       "    .dataframe thead th {\n",
       "        text-align: right;\n",
       "    }\n",
       "</style>\n",
       "<table border=\"1\" class=\"dataframe\">\n",
       "  <thead>\n",
       "    <tr style=\"text-align: right;\">\n",
       "      <th></th>\n",
       "      <th>Big data</th>\n",
       "      <th>Hadoop</th>\n",
       "      <th>Spark</th>\n",
       "      <th>Java</th>\n",
       "    </tr>\n",
       "  </thead>\n",
       "  <tbody>\n",
       "    <tr>\n",
       "      <th>Sylvie</th>\n",
       "      <td>11.0</td>\n",
       "      <td>18.0</td>\n",
       "      <td>15.0</td>\n",
       "      <td>18.0</td>\n",
       "    </tr>\n",
       "    <tr>\n",
       "      <th>Gilles</th>\n",
       "      <td>15.0</td>\n",
       "      <td>20.0</td>\n",
       "      <td>7.0</td>\n",
       "      <td>20.0</td>\n",
       "    </tr>\n",
       "  </tbody>\n",
       "</table>\n",
       "</div>"
      ],
      "text/plain": [
       "        Big data  Hadoop  Spark  Java\n",
       "Sylvie      11.0    18.0   15.0  18.0\n",
       "Gilles      15.0    20.0    7.0  20.0"
      ]
     },
     "execution_count": 54,
     "metadata": {},
     "output_type": "execute_result"
    }
   ],
   "source": [
    "Res = DF_Notes[(DF_Notes[\"Java\"] >= 15)]\n",
    "Res"
   ]
  },
  {
   "cell_type": "code",
   "execution_count": 55,
   "id": "02eae417",
   "metadata": {},
   "outputs": [
    {
     "data": {
      "text/plain": [
       "Sylvie    18.0\n",
       "Gilles    20.0\n",
       "Name: Java, dtype: float64"
      ]
     },
     "execution_count": 55,
     "metadata": {},
     "output_type": "execute_result"
    }
   ],
   "source": [
    "Res.Java"
   ]
  },
  {
   "cell_type": "code",
   "execution_count": 56,
   "id": "03ac404b",
   "metadata": {},
   "outputs": [
    {
     "data": {
      "text/html": [
       "<div>\n",
       "<style scoped>\n",
       "    .dataframe tbody tr th:only-of-type {\n",
       "        vertical-align: middle;\n",
       "    }\n",
       "\n",
       "    .dataframe tbody tr th {\n",
       "        vertical-align: top;\n",
       "    }\n",
       "\n",
       "    .dataframe thead th {\n",
       "        text-align: right;\n",
       "    }\n",
       "</style>\n",
       "<table border=\"1\" class=\"dataframe\">\n",
       "  <thead>\n",
       "    <tr style=\"text-align: right;\">\n",
       "      <th></th>\n",
       "      <th>Big data</th>\n",
       "      <th>Hadoop</th>\n",
       "      <th>Spark</th>\n",
       "      <th>Java</th>\n",
       "    </tr>\n",
       "  </thead>\n",
       "  <tbody>\n",
       "    <tr>\n",
       "      <th>Sylvie</th>\n",
       "      <td>11.0</td>\n",
       "      <td>18.0</td>\n",
       "      <td>15.0</td>\n",
       "      <td>18.0</td>\n",
       "    </tr>\n",
       "  </tbody>\n",
       "</table>\n",
       "</div>"
      ],
      "text/plain": [
       "        Big data  Hadoop  Spark  Java\n",
       "Sylvie      11.0    18.0   15.0  18.0"
      ]
     },
     "execution_count": 56,
     "metadata": {},
     "output_type": "execute_result"
    }
   ],
   "source": [
    "Res = DF_Notes[(DF_Notes[\"Java\"] >= 15) & (DF_Notes[\"Spark\"] >= 10)]\n",
    "Res"
   ]
  },
  {
   "cell_type": "code",
   "execution_count": 58,
   "id": "263cd845",
   "metadata": {},
   "outputs": [
    {
     "data": {
      "text/html": [
       "<div>\n",
       "<style scoped>\n",
       "    .dataframe tbody tr th:only-of-type {\n",
       "        vertical-align: middle;\n",
       "    }\n",
       "\n",
       "    .dataframe tbody tr th {\n",
       "        vertical-align: top;\n",
       "    }\n",
       "\n",
       "    .dataframe thead th {\n",
       "        text-align: right;\n",
       "    }\n",
       "</style>\n",
       "<table border=\"1\" class=\"dataframe\">\n",
       "  <thead>\n",
       "    <tr style=\"text-align: right;\">\n",
       "      <th></th>\n",
       "      <th>Spark</th>\n",
       "      <th>Java</th>\n",
       "    </tr>\n",
       "  </thead>\n",
       "  <tbody>\n",
       "    <tr>\n",
       "      <th>Sylvie</th>\n",
       "      <td>15.0</td>\n",
       "      <td>18.0</td>\n",
       "    </tr>\n",
       "  </tbody>\n",
       "</table>\n",
       "</div>"
      ],
      "text/plain": [
       "        Spark  Java\n",
       "Sylvie   15.0  18.0"
      ]
     },
     "execution_count": 58,
     "metadata": {},
     "output_type": "execute_result"
    }
   ],
   "source": [
    "Res[[\"Spark\", \"Java\"]]"
   ]
  },
  {
   "cell_type": "code",
   "execution_count": 60,
   "id": "c9a311bc",
   "metadata": {},
   "outputs": [
    {
     "data": {
      "text/plain": [
       "{'Région': ['Nouvelle-Aquitaine',\n",
       "  'Normandie',\n",
       "  'Normandie',\n",
       "  'Ile-de-France',\n",
       "  'Ile-de-France',\n",
       "  'Grand Est',\n",
       "  'Grand Est',\n",
       "  'Grand Est'],\n",
       " 'Université': ['Université de Poitiers',\n",
       "  'Université de Rouen',\n",
       "  'Université de Rouen',\n",
       "  'Université de Paris',\n",
       "  'Université de Paris',\n",
       "  'Université de Reims',\n",
       "  'Université de Reims',\n",
       "  'Université de Reims'],\n",
       " 'Nom': ['Gilles',\n",
       "  'Laura',\n",
       "  'Sylvain',\n",
       "  'Thomas',\n",
       "  'Sylvie',\n",
       "  'Luc',\n",
       "  'Marc',\n",
       "  'Hugo'],\n",
       " 'Spark': [14, 14.5, 15, 7.5, 18, 20, 19, 14],\n",
       " 'Scala': [15, 10, 11, 9, 10.5, 18.5, 16, 16]}"
      ]
     },
     "execution_count": 60,
     "metadata": {},
     "output_type": "execute_result"
    }
   ],
   "source": [
    "Dict = {'Région': ['Nouvelle-Aquitaine', 'Normandie', 'Normandie', 'Ile-de-France', 'Ile-de-France',\n",
    "                   'Grand Est', 'Grand Est', 'Grand Est'], \n",
    "          'Université': ['Université de Poitiers', 'Université de Rouen', 'Université de Rouen',\n",
    "                     'Université de Paris', 'Université de Paris', 'Université de Reims', 'Université de Reims',\n",
    "                         'Université de Reims'],             \n",
    "          'Nom': ['Gilles', 'Laura', 'Sylvain', \n",
    "                   'Thomas', 'Sylvie', 'Luc', 'Marc', 'Hugo'], \n",
    "          'Spark': [14, 14.5, 15, 7.5, 18, 20, 19, 14],\n",
    "          'Scala': [15, 10, 11, 9, 10.5, 18.5, 16, 16]}\n",
    "Dict"
   ]
  },
  {
   "cell_type": "code",
   "execution_count": 61,
   "id": "7be03e83",
   "metadata": {},
   "outputs": [
    {
     "data": {
      "text/html": [
       "<div>\n",
       "<style scoped>\n",
       "    .dataframe tbody tr th:only-of-type {\n",
       "        vertical-align: middle;\n",
       "    }\n",
       "\n",
       "    .dataframe tbody tr th {\n",
       "        vertical-align: top;\n",
       "    }\n",
       "\n",
       "    .dataframe thead th {\n",
       "        text-align: right;\n",
       "    }\n",
       "</style>\n",
       "<table border=\"1\" class=\"dataframe\">\n",
       "  <thead>\n",
       "    <tr style=\"text-align: right;\">\n",
       "      <th></th>\n",
       "      <th>Région</th>\n",
       "      <th>Université</th>\n",
       "      <th>Nom</th>\n",
       "      <th>Spark</th>\n",
       "      <th>Scala</th>\n",
       "    </tr>\n",
       "  </thead>\n",
       "  <tbody>\n",
       "    <tr>\n",
       "      <th>0</th>\n",
       "      <td>Nouvelle-Aquitaine</td>\n",
       "      <td>Université de Poitiers</td>\n",
       "      <td>Gilles</td>\n",
       "      <td>14.0</td>\n",
       "      <td>15.0</td>\n",
       "    </tr>\n",
       "    <tr>\n",
       "      <th>1</th>\n",
       "      <td>Normandie</td>\n",
       "      <td>Université de Rouen</td>\n",
       "      <td>Laura</td>\n",
       "      <td>14.5</td>\n",
       "      <td>10.0</td>\n",
       "    </tr>\n",
       "    <tr>\n",
       "      <th>2</th>\n",
       "      <td>Normandie</td>\n",
       "      <td>Université de Rouen</td>\n",
       "      <td>Sylvain</td>\n",
       "      <td>15.0</td>\n",
       "      <td>11.0</td>\n",
       "    </tr>\n",
       "    <tr>\n",
       "      <th>3</th>\n",
       "      <td>Ile-de-France</td>\n",
       "      <td>Université de Paris</td>\n",
       "      <td>Thomas</td>\n",
       "      <td>7.5</td>\n",
       "      <td>9.0</td>\n",
       "    </tr>\n",
       "    <tr>\n",
       "      <th>4</th>\n",
       "      <td>Ile-de-France</td>\n",
       "      <td>Université de Paris</td>\n",
       "      <td>Sylvie</td>\n",
       "      <td>18.0</td>\n",
       "      <td>10.5</td>\n",
       "    </tr>\n",
       "    <tr>\n",
       "      <th>5</th>\n",
       "      <td>Grand Est</td>\n",
       "      <td>Université de Reims</td>\n",
       "      <td>Luc</td>\n",
       "      <td>20.0</td>\n",
       "      <td>18.5</td>\n",
       "    </tr>\n",
       "    <tr>\n",
       "      <th>6</th>\n",
       "      <td>Grand Est</td>\n",
       "      <td>Université de Reims</td>\n",
       "      <td>Marc</td>\n",
       "      <td>19.0</td>\n",
       "      <td>16.0</td>\n",
       "    </tr>\n",
       "    <tr>\n",
       "      <th>7</th>\n",
       "      <td>Grand Est</td>\n",
       "      <td>Université de Reims</td>\n",
       "      <td>Hugo</td>\n",
       "      <td>14.0</td>\n",
       "      <td>16.0</td>\n",
       "    </tr>\n",
       "  </tbody>\n",
       "</table>\n",
       "</div>"
      ],
      "text/plain": [
       "               Région              Université      Nom  Spark  Scala\n",
       "0  Nouvelle-Aquitaine  Université de Poitiers   Gilles   14.0   15.0\n",
       "1           Normandie     Université de Rouen    Laura   14.5   10.0\n",
       "2           Normandie     Université de Rouen  Sylvain   15.0   11.0\n",
       "3       Ile-de-France     Université de Paris   Thomas    7.5    9.0\n",
       "4       Ile-de-France     Université de Paris   Sylvie   18.0   10.5\n",
       "5           Grand Est     Université de Reims      Luc   20.0   18.5\n",
       "6           Grand Est     Université de Reims     Marc   19.0   16.0\n",
       "7           Grand Est     Université de Reims     Hugo   14.0   16.0"
      ]
     },
     "execution_count": 61,
     "metadata": {},
     "output_type": "execute_result"
    }
   ],
   "source": [
    "DF = pd.DataFrame(Dict)\n",
    "DF"
   ]
  },
  {
   "cell_type": "code",
   "execution_count": 78,
   "id": "0d846dfd",
   "metadata": {},
   "outputs": [
    {
     "name": "stdout",
     "output_type": "stream",
     "text": [
      "<pandas.core.groupby.generic.DataFrameGroupBy object at 0x7f0c352d3850>\n",
      "('Grand Est',       Région           Université   Nom  Spark  Scala\n",
      "5  Grand Est  Université de Reims   Luc   20.0   18.5\n",
      "6  Grand Est  Université de Reims  Marc   19.0   16.0\n",
      "7  Grand Est  Université de Reims  Hugo   14.0   16.0)\n",
      "Grand Est\n",
      "('Ile-de-France',           Région           Université     Nom  Spark  Scala\n",
      "3  Ile-de-France  Université de Paris  Thomas    7.5    9.0\n",
      "4  Ile-de-France  Université de Paris  Sylvie   18.0   10.5)\n",
      "Ile-de-France\n",
      "('Normandie',       Région           Université      Nom  Spark  Scala\n",
      "1  Normandie  Université de Rouen    Laura   14.5   10.0\n",
      "2  Normandie  Université de Rouen  Sylvain   15.0   11.0)\n",
      "Normandie\n",
      "('Nouvelle-Aquitaine',                Région              Université     Nom  Spark  Scala\n",
      "0  Nouvelle-Aquitaine  Université de Poitiers  Gilles   14.0   15.0)\n",
      "Nouvelle-Aquitaine\n"
     ]
    }
   ],
   "source": [
    "Grp = DF.groupby('Région')\n",
    "print(Grp)\n",
    "for R in Grp:\n",
    "    print(R)\n",
    "    print(R[0])"
   ]
  },
  {
   "cell_type": "code",
   "execution_count": 79,
   "id": "96bb681a",
   "metadata": {},
   "outputs": [
    {
     "name": "stdout",
     "output_type": "stream",
     "text": [
      "Grand Est\n",
      "**********************\n",
      "      Région           Université   Nom  Spark  Scala\n",
      "5  Grand Est  Université de Reims   Luc   20.0   18.5\n",
      "6  Grand Est  Université de Reims  Marc   19.0   16.0\n",
      "7  Grand Est  Université de Reims  Hugo   14.0   16.0\n",
      "Ile-de-France\n",
      "**********************\n",
      "          Région           Université     Nom  Spark  Scala\n",
      "3  Ile-de-France  Université de Paris  Thomas    7.5    9.0\n",
      "4  Ile-de-France  Université de Paris  Sylvie   18.0   10.5\n",
      "Normandie\n",
      "**********************\n",
      "      Région           Université      Nom  Spark  Scala\n",
      "1  Normandie  Université de Rouen    Laura   14.5   10.0\n",
      "2  Normandie  Université de Rouen  Sylvain   15.0   11.0\n",
      "Nouvelle-Aquitaine\n",
      "**********************\n",
      "               Région              Université     Nom  Spark  Scala\n",
      "0  Nouvelle-Aquitaine  Université de Poitiers  Gilles   14.0   15.0\n"
     ]
    }
   ],
   "source": [
    "for R, G in Grp:\n",
    "    print(R)\n",
    "    print(\"**********************\")\n",
    "    print(G)"
   ]
  },
  {
   "cell_type": "code",
   "execution_count": 81,
   "id": "15a32534",
   "metadata": {},
   "outputs": [
    {
     "data": {
      "text/html": [
       "<div>\n",
       "<style scoped>\n",
       "    .dataframe tbody tr th:only-of-type {\n",
       "        vertical-align: middle;\n",
       "    }\n",
       "\n",
       "    .dataframe tbody tr th {\n",
       "        vertical-align: top;\n",
       "    }\n",
       "\n",
       "    .dataframe thead th {\n",
       "        text-align: right;\n",
       "    }\n",
       "</style>\n",
       "<table border=\"1\" class=\"dataframe\">\n",
       "  <thead>\n",
       "    <tr style=\"text-align: right;\">\n",
       "      <th></th>\n",
       "      <th></th>\n",
       "      <th>Spark</th>\n",
       "      <th>Scala</th>\n",
       "    </tr>\n",
       "    <tr>\n",
       "      <th>Région</th>\n",
       "      <th>Université</th>\n",
       "      <th></th>\n",
       "      <th></th>\n",
       "    </tr>\n",
       "  </thead>\n",
       "  <tbody>\n",
       "    <tr>\n",
       "      <th>Grand Est</th>\n",
       "      <th>Université de Reims</th>\n",
       "      <td>17.666667</td>\n",
       "      <td>16.833333</td>\n",
       "    </tr>\n",
       "    <tr>\n",
       "      <th>Ile-de-France</th>\n",
       "      <th>Université de Paris</th>\n",
       "      <td>12.750000</td>\n",
       "      <td>9.750000</td>\n",
       "    </tr>\n",
       "    <tr>\n",
       "      <th>Normandie</th>\n",
       "      <th>Université de Rouen</th>\n",
       "      <td>14.750000</td>\n",
       "      <td>10.500000</td>\n",
       "    </tr>\n",
       "    <tr>\n",
       "      <th>Nouvelle-Aquitaine</th>\n",
       "      <th>Université de Poitiers</th>\n",
       "      <td>14.000000</td>\n",
       "      <td>15.000000</td>\n",
       "    </tr>\n",
       "  </tbody>\n",
       "</table>\n",
       "</div>"
      ],
      "text/plain": [
       "                                               Spark      Scala\n",
       "Région             Université                                  \n",
       "Grand Est          Université de Reims     17.666667  16.833333\n",
       "Ile-de-France      Université de Paris     12.750000   9.750000\n",
       "Normandie          Université de Rouen     14.750000  10.500000\n",
       "Nouvelle-Aquitaine Université de Poitiers  14.000000  15.000000"
      ]
     },
     "execution_count": 81,
     "metadata": {},
     "output_type": "execute_result"
    }
   ],
   "source": [
    "DF.groupby(['Région', 'Université']).mean()"
   ]
  },
  {
   "cell_type": "code",
   "execution_count": 83,
   "id": "e9712537",
   "metadata": {},
   "outputs": [
    {
     "name": "stdout",
     "output_type": "stream",
     "text": [
      "DataFrame DF1:\n",
      "\n",
      "       Nom  Age\n",
      "0   Gilles   25\n",
      "1  Sylvain   28\n",
      "\n",
      "DataFrame DF2:\n",
      "\n",
      "      Nom  Age\n",
      "0  Sylvie   35\n",
      "1     Luc   50\n"
     ]
    }
   ],
   "source": [
    "DF1 = pd.DataFrame({'Nom': ['Gilles', 'Sylvain'], 'Age': [25, 28]})\n",
    "DF2 = pd.DataFrame({'Nom': ['Sylvie', 'Luc'], 'Age': [35, 50]})\n",
    "\n",
    "print(\"DataFrame DF1:\\n\")\n",
    "print(DF1)\n",
    "print(\"\\nDataFrame DF2:\\n\")\n",
    "print(DF2)"
   ]
  },
  {
   "cell_type": "code",
   "execution_count": 97,
   "id": "30d73bb7",
   "metadata": {},
   "outputs": [
    {
     "name": "stdout",
     "output_type": "stream",
     "text": [
      "\n",
      "Concaténation:\n",
      "        Nom  Age\n",
      "0   Gilles   25\n",
      "1  Sylvain   28\n",
      "0   Sylvie   35\n",
      "1      Luc   50\n",
      "      Nom  Age\n",
      "0  Gilles   25\n",
      "0  Sylvie   35\n",
      "Nom    Sylvie\n",
      "Age        35\n",
      "Name: 0, dtype: object\n",
      "       Nom  Age\n",
      "0   Gilles   25\n",
      "1  Sylvain   28\n",
      "2   Sylvie   35\n",
      "3      Luc   50\n"
     ]
    },
    {
     "data": {
      "text/plain": [
       "Nom    Gilles\n",
       "Age        25\n",
       "Name: 0, dtype: object"
      ]
     },
     "execution_count": 97,
     "metadata": {},
     "output_type": "execute_result"
    }
   ],
   "source": [
    "DF_Concat = pd.concat([DF1, DF2])\n",
    "\n",
    "print(\"\\nConcaténation:\\n\", DF_Concat)\n",
    "\n",
    "print(DF_Concat.loc[0])\n",
    "print(DF_Concat.iloc[2])\n",
    "\n",
    "DF_Concat.index = range(4)\n",
    "\n",
    "print(DF_Concat)\n",
    "DF_Concat.loc[0]"
   ]
  },
  {
   "cell_type": "code",
   "execution_count": 99,
   "id": "b4769dfb",
   "metadata": {},
   "outputs": [
    {
     "name": "stdout",
     "output_type": "stream",
     "text": [
      "DataFrame DF1:\n",
      "\n",
      "       Nom  Age\n",
      "0   Gilles   25\n",
      "1  Sylvain   28\n",
      "\n",
      "DataFrame DF2:\n",
      "\n",
      "  Profession        Tél\n",
      "0   Etudiant  06-32-...\n",
      "1    Employé  06-21-...\n"
     ]
    }
   ],
   "source": [
    "DF1 = pd.DataFrame({'Nom': ['Gilles', 'Sylvain'], 'Age': [25, 28]})\n",
    "DF2 = pd.DataFrame({'Profession': ['Etudiant', 'Employé'], 'Tél': ['06-32-...', '06-21-...']})\n",
    "\n",
    "print(\"DataFrame DF1:\\n\")\n",
    "print(DF1)\n",
    "print(\"\\nDataFrame DF2:\\n\")\n",
    "print(DF2)"
   ]
  },
  {
   "cell_type": "code",
   "execution_count": 100,
   "id": "1a94e69b",
   "metadata": {},
   "outputs": [
    {
     "name": "stdout",
     "output_type": "stream",
     "text": [
      "\n",
      "Concaténation:\n",
      "        Nom  Age Profession        Tél\n",
      "0   Gilles   25   Etudiant  06-32-...\n",
      "1  Sylvain   28    Employé  06-21-...\n"
     ]
    }
   ],
   "source": [
    "DF_Concat = pd.concat([DF1, DF2], axis=1)\n",
    "\n",
    "print(\"\\nConcaténation:\\n\", DF_Concat)"
   ]
  },
  {
   "cell_type": "code",
   "execution_count": 108,
   "id": "a9812b44",
   "metadata": {},
   "outputs": [
    {
     "name": "stdout",
     "output_type": "stream",
     "text": [
      "               Région              Université      Nom  Spark  Scala\n",
      "0  Nouvelle-Aquitaine  Université de Poitiers   Gilles   14.0   15.0\n",
      "1           Normandie     Université de Rouen    Laura   14.5   10.0\n",
      "2           Normandie     Université de Rouen  Sylvain   15.0   11.0\n",
      "3       Ile-de-France     Université de Paris   Thomas    7.5    9.0\n",
      "4       Ile-de-France     Université de Paris   Sylvie   18.0   10.5\n",
      "5           Grand Est     Université de Reims      Luc   20.0   18.5\n",
      "6           Grand Est     Université de Reims     Marc   19.0   16.0\n",
      "7           Grand Est     Université de Reims     Hugo   14.0   16.0\n"
     ]
    },
    {
     "data": {
      "text/html": [
       "<div>\n",
       "<style scoped>\n",
       "    .dataframe tbody tr th:only-of-type {\n",
       "        vertical-align: middle;\n",
       "    }\n",
       "\n",
       "    .dataframe tbody tr th {\n",
       "        vertical-align: top;\n",
       "    }\n",
       "\n",
       "    .dataframe thead th {\n",
       "        text-align: right;\n",
       "    }\n",
       "</style>\n",
       "<table border=\"1\" class=\"dataframe\">\n",
       "  <thead>\n",
       "    <tr style=\"text-align: right;\">\n",
       "      <th></th>\n",
       "      <th>Région</th>\n",
       "      <th>Université</th>\n",
       "      <th>Nom</th>\n",
       "      <th>Spark</th>\n",
       "      <th>Scala</th>\n",
       "    </tr>\n",
       "  </thead>\n",
       "  <tbody>\n",
       "    <tr>\n",
       "      <th>0</th>\n",
       "      <td>Nouvelle-Aquitaine</td>\n",
       "      <td>Université de Poitiers</td>\n",
       "      <td>Gilles</td>\n",
       "      <td>14.0</td>\n",
       "      <td>15.0</td>\n",
       "    </tr>\n",
       "    <tr>\n",
       "      <th>1</th>\n",
       "      <td>Normandie</td>\n",
       "      <td>Université de Rouen</td>\n",
       "      <td>Laura</td>\n",
       "      <td>14.5</td>\n",
       "      <td>10.0</td>\n",
       "    </tr>\n",
       "    <tr>\n",
       "      <th>2</th>\n",
       "      <td>Normandie</td>\n",
       "      <td>Université de Rouen</td>\n",
       "      <td>Sylvain</td>\n",
       "      <td>15.0</td>\n",
       "      <td>11.0</td>\n",
       "    </tr>\n",
       "    <tr>\n",
       "      <th>3</th>\n",
       "      <td>Ile-de-France</td>\n",
       "      <td>Université de Paris</td>\n",
       "      <td>Thomas</td>\n",
       "      <td>7.5</td>\n",
       "      <td>9.0</td>\n",
       "    </tr>\n",
       "    <tr>\n",
       "      <th>4</th>\n",
       "      <td>Ile-de-France</td>\n",
       "      <td>Université de Paris</td>\n",
       "      <td>Sylvie</td>\n",
       "      <td>18.0</td>\n",
       "      <td>10.5</td>\n",
       "    </tr>\n",
       "    <tr>\n",
       "      <th>5</th>\n",
       "      <td>Grand Est</td>\n",
       "      <td>Université de Reims</td>\n",
       "      <td>Luc</td>\n",
       "      <td>20.0</td>\n",
       "      <td>18.5</td>\n",
       "    </tr>\n",
       "    <tr>\n",
       "      <th>7</th>\n",
       "      <td>Grand Est</td>\n",
       "      <td>Université de Reims</td>\n",
       "      <td>Hugo</td>\n",
       "      <td>14.0</td>\n",
       "      <td>16.0</td>\n",
       "    </tr>\n",
       "  </tbody>\n",
       "</table>\n",
       "</div>"
      ],
      "text/plain": [
       "               Région              Université      Nom  Spark  Scala\n",
       "0  Nouvelle-Aquitaine  Université de Poitiers   Gilles   14.0   15.0\n",
       "1           Normandie     Université de Rouen    Laura   14.5   10.0\n",
       "2           Normandie     Université de Rouen  Sylvain   15.0   11.0\n",
       "3       Ile-de-France     Université de Paris   Thomas    7.5    9.0\n",
       "4       Ile-de-France     Université de Paris   Sylvie   18.0   10.5\n",
       "5           Grand Est     Université de Reims      Luc   20.0   18.5\n",
       "7           Grand Est     Université de Reims     Hugo   14.0   16.0"
      ]
     },
     "execution_count": 108,
     "metadata": {},
     "output_type": "execute_result"
    }
   ],
   "source": [
    "DF = pd.DataFrame(Dict)\n",
    "print(DF)\n",
    "DF.drop(6)"
   ]
  },
  {
   "cell_type": "code",
   "execution_count": 109,
   "id": "901867c5",
   "metadata": {},
   "outputs": [],
   "source": [
    "DF = DF.drop(6)\n",
    "del DF[\"Nom\"]"
   ]
  },
  {
   "cell_type": "code",
   "execution_count": 110,
   "id": "69d86c40",
   "metadata": {},
   "outputs": [
    {
     "data": {
      "text/html": [
       "<div>\n",
       "<style scoped>\n",
       "    .dataframe tbody tr th:only-of-type {\n",
       "        vertical-align: middle;\n",
       "    }\n",
       "\n",
       "    .dataframe tbody tr th {\n",
       "        vertical-align: top;\n",
       "    }\n",
       "\n",
       "    .dataframe thead th {\n",
       "        text-align: right;\n",
       "    }\n",
       "</style>\n",
       "<table border=\"1\" class=\"dataframe\">\n",
       "  <thead>\n",
       "    <tr style=\"text-align: right;\">\n",
       "      <th></th>\n",
       "      <th>Région</th>\n",
       "      <th>Université</th>\n",
       "      <th>Spark</th>\n",
       "      <th>Scala</th>\n",
       "    </tr>\n",
       "  </thead>\n",
       "  <tbody>\n",
       "    <tr>\n",
       "      <th>0</th>\n",
       "      <td>Nouvelle-Aquitaine</td>\n",
       "      <td>Université de Poitiers</td>\n",
       "      <td>14.0</td>\n",
       "      <td>15.0</td>\n",
       "    </tr>\n",
       "    <tr>\n",
       "      <th>1</th>\n",
       "      <td>Normandie</td>\n",
       "      <td>Université de Rouen</td>\n",
       "      <td>14.5</td>\n",
       "      <td>10.0</td>\n",
       "    </tr>\n",
       "    <tr>\n",
       "      <th>2</th>\n",
       "      <td>Normandie</td>\n",
       "      <td>Université de Rouen</td>\n",
       "      <td>15.0</td>\n",
       "      <td>11.0</td>\n",
       "    </tr>\n",
       "    <tr>\n",
       "      <th>3</th>\n",
       "      <td>Ile-de-France</td>\n",
       "      <td>Université de Paris</td>\n",
       "      <td>7.5</td>\n",
       "      <td>9.0</td>\n",
       "    </tr>\n",
       "    <tr>\n",
       "      <th>4</th>\n",
       "      <td>Ile-de-France</td>\n",
       "      <td>Université de Paris</td>\n",
       "      <td>18.0</td>\n",
       "      <td>10.5</td>\n",
       "    </tr>\n",
       "    <tr>\n",
       "      <th>5</th>\n",
       "      <td>Grand Est</td>\n",
       "      <td>Université de Reims</td>\n",
       "      <td>20.0</td>\n",
       "      <td>18.5</td>\n",
       "    </tr>\n",
       "    <tr>\n",
       "      <th>7</th>\n",
       "      <td>Grand Est</td>\n",
       "      <td>Université de Reims</td>\n",
       "      <td>14.0</td>\n",
       "      <td>16.0</td>\n",
       "    </tr>\n",
       "  </tbody>\n",
       "</table>\n",
       "</div>"
      ],
      "text/plain": [
       "               Région              Université  Spark  Scala\n",
       "0  Nouvelle-Aquitaine  Université de Poitiers   14.0   15.0\n",
       "1           Normandie     Université de Rouen   14.5   10.0\n",
       "2           Normandie     Université de Rouen   15.0   11.0\n",
       "3       Ile-de-France     Université de Paris    7.5    9.0\n",
       "4       Ile-de-France     Université de Paris   18.0   10.5\n",
       "5           Grand Est     Université de Reims   20.0   18.5\n",
       "7           Grand Est     Université de Reims   14.0   16.0"
      ]
     },
     "execution_count": 110,
     "metadata": {},
     "output_type": "execute_result"
    }
   ],
   "source": [
    "DF"
   ]
  },
  {
   "cell_type": "code",
   "execution_count": 111,
   "id": "12158744",
   "metadata": {},
   "outputs": [
    {
     "data": {
      "text/html": [
       "<div>\n",
       "<style scoped>\n",
       "    .dataframe tbody tr th:only-of-type {\n",
       "        vertical-align: middle;\n",
       "    }\n",
       "\n",
       "    .dataframe tbody tr th {\n",
       "        vertical-align: top;\n",
       "    }\n",
       "\n",
       "    .dataframe thead th {\n",
       "        text-align: right;\n",
       "    }\n",
       "</style>\n",
       "<table border=\"1\" class=\"dataframe\">\n",
       "  <thead>\n",
       "    <tr style=\"text-align: right;\">\n",
       "      <th></th>\n",
       "      <th>A</th>\n",
       "      <th>B</th>\n",
       "      <th>C</th>\n",
       "    </tr>\n",
       "  </thead>\n",
       "  <tbody>\n",
       "    <tr>\n",
       "      <th>0</th>\n",
       "      <td>1</td>\n",
       "      <td>10</td>\n",
       "      <td>10</td>\n",
       "    </tr>\n",
       "    <tr>\n",
       "      <th>1</th>\n",
       "      <td>2</td>\n",
       "      <td>8</td>\n",
       "      <td>9</td>\n",
       "    </tr>\n",
       "    <tr>\n",
       "      <th>2</th>\n",
       "      <td>3</td>\n",
       "      <td>6</td>\n",
       "      <td>8</td>\n",
       "    </tr>\n",
       "    <tr>\n",
       "      <th>3</th>\n",
       "      <td>4</td>\n",
       "      <td>4</td>\n",
       "      <td>7</td>\n",
       "    </tr>\n",
       "    <tr>\n",
       "      <th>4</th>\n",
       "      <td>5</td>\n",
       "      <td>2</td>\n",
       "      <td>6</td>\n",
       "    </tr>\n",
       "  </tbody>\n",
       "</table>\n",
       "</div>"
      ],
      "text/plain": [
       "   A   B   C\n",
       "0  1  10  10\n",
       "1  2   8   9\n",
       "2  3   6   8\n",
       "3  4   4   7\n",
       "4  5   2   6"
      ]
     },
     "execution_count": 111,
     "metadata": {},
     "output_type": "execute_result"
    }
   ],
   "source": [
    "DF = pd.DataFrame({'A': range(1, 6),\n",
    "                   'B': range(10, 0, -2),\n",
    "                   'C': range(10, 5, -1)})\n",
    "\n",
    "DF"
   ]
  },
  {
   "cell_type": "code",
   "execution_count": 114,
   "id": "25a634a4",
   "metadata": {},
   "outputs": [
    {
     "data": {
      "text/html": [
       "<div>\n",
       "<style scoped>\n",
       "    .dataframe tbody tr th:only-of-type {\n",
       "        vertical-align: middle;\n",
       "    }\n",
       "\n",
       "    .dataframe tbody tr th {\n",
       "        vertical-align: top;\n",
       "    }\n",
       "\n",
       "    .dataframe thead th {\n",
       "        text-align: right;\n",
       "    }\n",
       "</style>\n",
       "<table border=\"1\" class=\"dataframe\">\n",
       "  <thead>\n",
       "    <tr style=\"text-align: right;\">\n",
       "      <th></th>\n",
       "      <th>A</th>\n",
       "      <th>B</th>\n",
       "      <th>C</th>\n",
       "    </tr>\n",
       "  </thead>\n",
       "  <tbody>\n",
       "    <tr>\n",
       "      <th>3</th>\n",
       "      <td>4</td>\n",
       "      <td>4</td>\n",
       "      <td>7</td>\n",
       "    </tr>\n",
       "    <tr>\n",
       "      <th>4</th>\n",
       "      <td>5</td>\n",
       "      <td>2</td>\n",
       "      <td>6</td>\n",
       "    </tr>\n",
       "  </tbody>\n",
       "</table>\n",
       "</div>"
      ],
      "text/plain": [
       "   A  B  C\n",
       "3  4  4  7\n",
       "4  5  2  6"
      ]
     },
     "execution_count": 114,
     "metadata": {},
     "output_type": "execute_result"
    }
   ],
   "source": [
    "DF.query('A >= B')"
   ]
  },
  {
   "cell_type": "code",
   "execution_count": 115,
   "id": "0820a810",
   "metadata": {},
   "outputs": [
    {
     "data": {
      "text/html": [
       "<div>\n",
       "<style scoped>\n",
       "    .dataframe tbody tr th:only-of-type {\n",
       "        vertical-align: middle;\n",
       "    }\n",
       "\n",
       "    .dataframe tbody tr th {\n",
       "        vertical-align: top;\n",
       "    }\n",
       "\n",
       "    .dataframe thead th {\n",
       "        text-align: right;\n",
       "    }\n",
       "</style>\n",
       "<table border=\"1\" class=\"dataframe\">\n",
       "  <thead>\n",
       "    <tr style=\"text-align: right;\">\n",
       "      <th></th>\n",
       "      <th>A</th>\n",
       "      <th>B</th>\n",
       "      <th>C</th>\n",
       "    </tr>\n",
       "  </thead>\n",
       "  <tbody>\n",
       "    <tr>\n",
       "      <th>3</th>\n",
       "      <td>4</td>\n",
       "      <td>4</td>\n",
       "      <td>7</td>\n",
       "    </tr>\n",
       "    <tr>\n",
       "      <th>4</th>\n",
       "      <td>5</td>\n",
       "      <td>2</td>\n",
       "      <td>6</td>\n",
       "    </tr>\n",
       "  </tbody>\n",
       "</table>\n",
       "</div>"
      ],
      "text/plain": [
       "   A  B  C\n",
       "3  4  4  7\n",
       "4  5  2  6"
      ]
     },
     "execution_count": 115,
     "metadata": {},
     "output_type": "execute_result"
    }
   ],
   "source": [
    "DF[DF.A >= DF.B]"
   ]
  },
  {
   "cell_type": "code",
   "execution_count": 116,
   "id": "2ae4da44",
   "metadata": {},
   "outputs": [
    {
     "data": {
      "text/html": [
       "<div>\n",
       "<style scoped>\n",
       "    .dataframe tbody tr th:only-of-type {\n",
       "        vertical-align: middle;\n",
       "    }\n",
       "\n",
       "    .dataframe tbody tr th {\n",
       "        vertical-align: top;\n",
       "    }\n",
       "\n",
       "    .dataframe thead th {\n",
       "        text-align: right;\n",
       "    }\n",
       "</style>\n",
       "<table border=\"1\" class=\"dataframe\">\n",
       "  <thead>\n",
       "    <tr style=\"text-align: right;\">\n",
       "      <th></th>\n",
       "      <th>A</th>\n",
       "      <th>B</th>\n",
       "      <th>C</th>\n",
       "      <th>D</th>\n",
       "    </tr>\n",
       "  </thead>\n",
       "  <tbody>\n",
       "    <tr>\n",
       "      <th>0</th>\n",
       "      <td>1</td>\n",
       "      <td>10</td>\n",
       "      <td>10</td>\n",
       "      <td>1.000000</td>\n",
       "    </tr>\n",
       "    <tr>\n",
       "      <th>1</th>\n",
       "      <td>2</td>\n",
       "      <td>8</td>\n",
       "      <td>9</td>\n",
       "      <td>0.888889</td>\n",
       "    </tr>\n",
       "    <tr>\n",
       "      <th>2</th>\n",
       "      <td>3</td>\n",
       "      <td>6</td>\n",
       "      <td>8</td>\n",
       "      <td>0.750000</td>\n",
       "    </tr>\n",
       "    <tr>\n",
       "      <th>3</th>\n",
       "      <td>4</td>\n",
       "      <td>4</td>\n",
       "      <td>7</td>\n",
       "      <td>0.571429</td>\n",
       "    </tr>\n",
       "    <tr>\n",
       "      <th>4</th>\n",
       "      <td>5</td>\n",
       "      <td>2</td>\n",
       "      <td>6</td>\n",
       "      <td>0.333333</td>\n",
       "    </tr>\n",
       "  </tbody>\n",
       "</table>\n",
       "</div>"
      ],
      "text/plain": [
       "   A   B   C         D\n",
       "0  1  10  10  1.000000\n",
       "1  2   8   9  0.888889\n",
       "2  3   6   8  0.750000\n",
       "3  4   4   7  0.571429\n",
       "4  5   2   6  0.333333"
      ]
     },
     "execution_count": 116,
     "metadata": {},
     "output_type": "execute_result"
    }
   ],
   "source": [
    "DF[\"D\"] = DF[\"B\"]/DF[\"C\"]\n",
    "DF"
   ]
  },
  {
   "cell_type": "code",
   "execution_count": null,
   "id": "150a678c",
   "metadata": {},
   "outputs": [],
   "source": []
  }
 ],
 "metadata": {
  "kernelspec": {
   "display_name": "Python 3 (ipykernel)",
   "language": "python",
   "name": "python3"
  },
  "language_info": {
   "codemirror_mode": {
    "name": "ipython",
    "version": 3
   },
   "file_extension": ".py",
   "mimetype": "text/x-python",
   "name": "python",
   "nbconvert_exporter": "python",
   "pygments_lexer": "ipython3",
   "version": "3.11.4"
  }
 },
 "nbformat": 4,
 "nbformat_minor": 5
}
