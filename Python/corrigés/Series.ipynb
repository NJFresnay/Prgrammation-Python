{
 "cells": [
  {
   "cell_type": "code",
   "execution_count": 1,
   "id": "699cf8a6",
   "metadata": {},
   "outputs": [],
   "source": [
    "import pandas as pd"
   ]
  },
  {
   "cell_type": "code",
   "execution_count": 2,
   "id": "1b5645d3",
   "metadata": {},
   "outputs": [],
   "source": [
    "notes = {\"Maths\": 19, \"Anglais\": 12, \"Géo\": 15}"
   ]
  },
  {
   "cell_type": "code",
   "execution_count": 3,
   "id": "20c7739e",
   "metadata": {},
   "outputs": [],
   "source": [
    "Ser = pd.Series(notes)"
   ]
  },
  {
   "cell_type": "code",
   "execution_count": 4,
   "id": "698a7fae",
   "metadata": {},
   "outputs": [
    {
     "name": "stdout",
     "output_type": "stream",
     "text": [
      "Maths      19\n",
      "Anglais    12\n",
      "Géo        15\n",
      "dtype: int64\n"
     ]
    }
   ],
   "source": [
    "print(Ser)"
   ]
  },
  {
   "cell_type": "code",
   "execution_count": 7,
   "id": "c825756f",
   "metadata": {},
   "outputs": [
    {
     "name": "stdout",
     "output_type": "stream",
     "text": [
      "Index(['Maths', 'Anglais', 'Géo'], dtype='object')\n"
     ]
    }
   ],
   "source": [
    "print(Ser.index)"
   ]
  },
  {
   "cell_type": "code",
   "execution_count": 8,
   "id": "6e8f2d09",
   "metadata": {},
   "outputs": [
    {
     "name": "stdout",
     "output_type": "stream",
     "text": [
      "[19 12 15]\n"
     ]
    }
   ],
   "source": [
    "print(Ser.values)"
   ]
  },
  {
   "cell_type": "code",
   "execution_count": 10,
   "id": "d912e484",
   "metadata": {},
   "outputs": [
    {
     "name": "stdout",
     "output_type": "stream",
     "text": [
      "Meilleure note 19\n"
     ]
    }
   ],
   "source": [
    "print(\"Meilleure note {}\".format(Ser[\"Maths\"]))"
   ]
  },
  {
   "cell_type": "code",
   "execution_count": 11,
   "id": "8a335703",
   "metadata": {},
   "outputs": [
    {
     "data": {
      "text/plain": [
       "False"
      ]
     },
     "execution_count": 11,
     "metadata": {},
     "output_type": "execute_result"
    }
   ],
   "source": [
    "\"Histoire\" in Ser"
   ]
  },
  {
   "cell_type": "code",
   "execution_count": 13,
   "id": "b8071e89",
   "metadata": {},
   "outputs": [
    {
     "data": {
      "text/plain": [
       "True"
      ]
     },
     "execution_count": 13,
     "metadata": {},
     "output_type": "execute_result"
    }
   ],
   "source": [
    "\"Maths\" in Ser"
   ]
  },
  {
   "cell_type": "code",
   "execution_count": 14,
   "id": "2b2f03cf",
   "metadata": {},
   "outputs": [
    {
     "data": {
      "text/plain": [
       "15"
      ]
     },
     "execution_count": 14,
     "metadata": {},
     "output_type": "execute_result"
    }
   ],
   "source": [
    "Ser[\"Géo\"]"
   ]
  },
  {
   "cell_type": "code",
   "execution_count": 15,
   "id": "6fd694d8",
   "metadata": {},
   "outputs": [],
   "source": [
    "import numpy as np"
   ]
  },
  {
   "cell_type": "code",
   "execution_count": 16,
   "id": "94c9811d",
   "metadata": {},
   "outputs": [],
   "source": [
    "Ser = pd.Series(np.array([155850, 318808, 220488, 139926]), index=[\"Angers\", \"Nantes\", \"Rennes\", \"Brest\"])"
   ]
  },
  {
   "cell_type": "code",
   "execution_count": 17,
   "id": "0898439f",
   "metadata": {},
   "outputs": [
    {
     "data": {
      "text/plain": [
       "Angers    155850\n",
       "Nantes    318808\n",
       "Rennes    220488\n",
       "Brest     139926\n",
       "dtype: int64"
      ]
     },
     "execution_count": 17,
     "metadata": {},
     "output_type": "execute_result"
    }
   ],
   "source": [
    "Ser"
   ]
  },
  {
   "cell_type": "code",
   "execution_count": 18,
   "id": "1cb4fe54",
   "metadata": {},
   "outputs": [],
   "source": [
    "Ser = pd.Series(1.5, index=[\"i1\", \"i2\", \"i3\", \"i4\"])"
   ]
  },
  {
   "cell_type": "code",
   "execution_count": 19,
   "id": "42bdfefc",
   "metadata": {},
   "outputs": [
    {
     "data": {
      "text/plain": [
       "i1    1.5\n",
       "i2    1.5\n",
       "i3    1.5\n",
       "i4    1.5\n",
       "dtype: float64"
      ]
     },
     "execution_count": 19,
     "metadata": {},
     "output_type": "execute_result"
    }
   ],
   "source": [
    "Ser"
   ]
  },
  {
   "cell_type": "code",
   "execution_count": 20,
   "id": "98e46e12",
   "metadata": {},
   "outputs": [
    {
     "data": {
      "text/plain": [
       "Angers    155850\n",
       "Nantes    318808\n",
       "Rennes    220488\n",
       "Brest     139926\n",
       "Name: Nombre d'habitants, dtype: int64"
      ]
     },
     "execution_count": 20,
     "metadata": {},
     "output_type": "execute_result"
    }
   ],
   "source": [
    "Data = np.array([155850, 318808, 220488, 139926])\n",
    "Ser = pd.Series(Data, index=[\"Angers\", \"Nantes\", \"Rennes\", \"Brest\"], name=\"Nombre d'habitants\")\n",
    "Ser"
   ]
  },
  {
   "cell_type": "code",
   "execution_count": 21,
   "id": "510e4183",
   "metadata": {},
   "outputs": [
    {
     "name": "stdout",
     "output_type": "stream",
     "text": [
      "Angers    155850\n",
      "Nantes    318808\n",
      "Rennes    220488\n",
      "Brest     139926\n",
      "Name: Nb habitants, dtype: int64\n"
     ]
    }
   ],
   "source": [
    "Ser2 = Ser.rename(\"Nb habitants\")\n",
    "print(Ser2)"
   ]
  },
  {
   "cell_type": "code",
   "execution_count": 23,
   "id": "42aef321",
   "metadata": {},
   "outputs": [
    {
     "name": "stdout",
     "output_type": "stream",
     "text": [
      "Maths       19\n",
      "Anglais     12\n",
      "Géo         15\n",
      "Français    13\n",
      "dtype: int64\n"
     ]
    }
   ],
   "source": [
    "Ser = pd.Series(notes)\n",
    "Ser[\"Français\"] = 13\n",
    "print(Ser)"
   ]
  },
  {
   "cell_type": "code",
   "execution_count": 25,
   "id": "9b9c5005",
   "metadata": {},
   "outputs": [
    {
     "name": "stdout",
     "output_type": "stream",
     "text": [
      "15\n",
      "*********************\n",
      "Géo         15\n",
      "Français    13\n",
      "dtype: int64\n",
      "*********************\n",
      "Maths      19\n",
      "Anglais    12\n",
      "Géo        15\n",
      "dtype: int64\n"
     ]
    }
   ],
   "source": [
    "print(Ser[-2])\n",
    "print(\"*********************\")\n",
    "print(Ser[2:])\n",
    "print(\"*********************\")\n",
    "print(Ser[\"Maths\":\"Géo\"])"
   ]
  },
  {
   "cell_type": "code",
   "execution_count": 26,
   "id": "14616df2",
   "metadata": {},
   "outputs": [],
   "source": [
    "Pays = pd.Series([\"France\", \"Italie\", \"Espagne\", \"Allemagne\", \"Angleterre\"], index=[1, 2, 3, 5, 8])"
   ]
  },
  {
   "cell_type": "code",
   "execution_count": 28,
   "id": "7e71a34b",
   "metadata": {},
   "outputs": [
    {
     "data": {
      "text/plain": [
       "'Italie'"
      ]
     },
     "execution_count": 28,
     "metadata": {},
     "output_type": "execute_result"
    }
   ],
   "source": [
    "Pays[2]"
   ]
  },
  {
   "cell_type": "code",
   "execution_count": 29,
   "id": "3c3d9360",
   "metadata": {},
   "outputs": [
    {
     "name": "stdout",
     "output_type": "stream",
     "text": [
      "Italie\n",
      "Espagne\n"
     ]
    }
   ],
   "source": [
    "print(Pays.loc[2])\n",
    "print(Pays.iloc[2])"
   ]
  },
  {
   "cell_type": "code",
   "execution_count": 30,
   "id": "11f51f53",
   "metadata": {},
   "outputs": [
    {
     "name": "stdout",
     "output_type": "stream",
     "text": [
      "Maths      19\n",
      "Anglais    12\n",
      "Géo        15\n",
      "dtype: int64\n",
      "Musique    14\n",
      "dtype: int64\n"
     ]
    }
   ],
   "source": [
    "Ser1 = pd.Series(notes)\n",
    "Ser2 = pd.Series({\"Musique\": 14})\n",
    "\n",
    "print(Ser1)\n",
    "print(Ser2)"
   ]
  },
  {
   "cell_type": "code",
   "execution_count": 31,
   "id": "79b47ce7",
   "metadata": {},
   "outputs": [
    {
     "data": {
      "text/plain": [
       "Maths      19\n",
       "Anglais    12\n",
       "Géo        15\n",
       "Musique    14\n",
       "dtype: int64"
      ]
     },
     "execution_count": 31,
     "metadata": {},
     "output_type": "execute_result"
    }
   ],
   "source": [
    "pd.concat([Ser1, Ser2])"
   ]
  },
  {
   "cell_type": "code",
   "execution_count": 32,
   "id": "3060f42e",
   "metadata": {},
   "outputs": [
    {
     "data": {
      "text/plain": [
       "Anglais    12\n",
       "Géo        15\n",
       "dtype: int64"
      ]
     },
     "execution_count": 32,
     "metadata": {},
     "output_type": "execute_result"
    }
   ],
   "source": [
    "Ser1.drop(\"Maths\")"
   ]
  },
  {
   "cell_type": "code",
   "execution_count": 33,
   "id": "8c805ca5",
   "metadata": {},
   "outputs": [
    {
     "data": {
      "text/plain": [
       "Maths      19\n",
       "Anglais    12\n",
       "Géo        15\n",
       "dtype: int64"
      ]
     },
     "execution_count": 33,
     "metadata": {},
     "output_type": "execute_result"
    }
   ],
   "source": [
    "Ser1"
   ]
  },
  {
   "cell_type": "code",
   "execution_count": 34,
   "id": "ffe1105e",
   "metadata": {},
   "outputs": [
    {
     "data": {
      "text/plain": [
       "Anglais    12\n",
       "Géo        15\n",
       "dtype: int64"
      ]
     },
     "execution_count": 34,
     "metadata": {},
     "output_type": "execute_result"
    }
   ],
   "source": [
    "Ser1 = Ser1.drop(\"Maths\")\n",
    "Ser1"
   ]
  },
  {
   "cell_type": "code",
   "execution_count": null,
   "id": "85e5d12e",
   "metadata": {},
   "outputs": [],
   "source": []
  }
 ],
 "metadata": {
  "kernelspec": {
   "display_name": "Python 3 (ipykernel)",
   "language": "python",
   "name": "python3"
  },
  "language_info": {
   "codemirror_mode": {
    "name": "ipython",
    "version": 3
   },
   "file_extension": ".py",
   "mimetype": "text/x-python",
   "name": "python",
   "nbconvert_exporter": "python",
   "pygments_lexer": "ipython3",
   "version": "3.10.5"
  }
 },
 "nbformat": 4,
 "nbformat_minor": 5
}
