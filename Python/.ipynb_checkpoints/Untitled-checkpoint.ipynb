{
 "cells": [
  {
   "cell_type": "code",
   "execution_count": 1,
   "id": "b2e2e561",
   "metadata": {},
   "outputs": [],
   "source": [
    "import pandas as pd\n",
    "import numpy as np"
   ]
  },
  {
   "cell_type": "code",
   "execution_count": 2,
   "id": "455d0f92",
   "metadata": {},
   "outputs": [],
   "source": [
    "Dict = {\"Age\": pd.Series([25, 30, 35], index=[\"Sylvie\", \"Gilles\", \"Sylvain\"]),\n",
    "         \"Ville\": pd.Series([\"Lorient\", \"Angers\", \"Vannes\", \"Le Mans\"], index=[\"Sylvie\", \"Gilles\", \"Sylvain\", \"Thomas\"])}"
   ]
  },
  {
   "cell_type": "code",
   "execution_count": 3,
   "id": "c8ed2105",
   "metadata": {},
   "outputs": [
    {
     "data": {
      "text/html": [
       "<div>\n",
       "<style scoped>\n",
       "    .dataframe tbody tr th:only-of-type {\n",
       "        vertical-align: middle;\n",
       "    }\n",
       "\n",
       "    .dataframe tbody tr th {\n",
       "        vertical-align: top;\n",
       "    }\n",
       "\n",
       "    .dataframe thead th {\n",
       "        text-align: right;\n",
       "    }\n",
       "</style>\n",
       "<table border=\"1\" class=\"dataframe\">\n",
       "  <thead>\n",
       "    <tr style=\"text-align: right;\">\n",
       "      <th></th>\n",
       "      <th>Age</th>\n",
       "      <th>Ville</th>\n",
       "    </tr>\n",
       "  </thead>\n",
       "  <tbody>\n",
       "    <tr>\n",
       "      <th>Gilles</th>\n",
       "      <td>30.0</td>\n",
       "      <td>Angers</td>\n",
       "    </tr>\n",
       "    <tr>\n",
       "      <th>Sylvain</th>\n",
       "      <td>35.0</td>\n",
       "      <td>Vannes</td>\n",
       "    </tr>\n",
       "    <tr>\n",
       "      <th>Sylvie</th>\n",
       "      <td>25.0</td>\n",
       "      <td>Lorient</td>\n",
       "    </tr>\n",
       "    <tr>\n",
       "      <th>Thomas</th>\n",
       "      <td>NaN</td>\n",
       "      <td>Le Mans</td>\n",
       "    </tr>\n",
       "  </tbody>\n",
       "</table>\n",
       "</div>"
      ],
      "text/plain": [
       "          Age    Ville\n",
       "Gilles   30.0   Angers\n",
       "Sylvain  35.0   Vannes\n",
       "Sylvie   25.0  Lorient\n",
       "Thomas    NaN  Le Mans"
      ]
     },
     "execution_count": 3,
     "metadata": {},
     "output_type": "execute_result"
    }
   ],
   "source": [
    "df = pd.DataFrame(Dict)\n",
    "df"
   ]
  },
  {
   "cell_type": "code",
   "execution_count": 4,
   "id": "572c30b0",
   "metadata": {},
   "outputs": [
    {
     "data": {
      "text/plain": [
       "Index(['Age', 'Ville'], dtype='object')"
      ]
     },
     "execution_count": 4,
     "metadata": {},
     "output_type": "execute_result"
    }
   ],
   "source": [
    "type(df)\n",
    "\n",
    "type(df[\"Ville\"])\n",
    "\n",
    "df.index #colonnes des clés\n",
    "\n",
    "df.columns # nom des en-tetes\n"
   ]
  },
  {
   "cell_type": "code",
   "execution_count": 5,
   "id": "e375f9db",
   "metadata": {},
   "outputs": [
    {
     "data": {
      "text/html": [
       "<div>\n",
       "<style scoped>\n",
       "    .dataframe tbody tr th:only-of-type {\n",
       "        vertical-align: middle;\n",
       "    }\n",
       "\n",
       "    .dataframe tbody tr th {\n",
       "        vertical-align: top;\n",
       "    }\n",
       "\n",
       "    .dataframe thead th {\n",
       "        text-align: right;\n",
       "    }\n",
       "</style>\n",
       "<table border=\"1\" class=\"dataframe\">\n",
       "  <thead>\n",
       "    <tr style=\"text-align: right;\">\n",
       "      <th></th>\n",
       "      <th>Prénom</th>\n",
       "      <th>Age</th>\n",
       "    </tr>\n",
       "  </thead>\n",
       "  <tbody>\n",
       "    <tr>\n",
       "      <th>L1</th>\n",
       "      <td>Sylvie</td>\n",
       "      <td>25</td>\n",
       "    </tr>\n",
       "    <tr>\n",
       "      <th>L2</th>\n",
       "      <td>Gilles</td>\n",
       "      <td>30</td>\n",
       "    </tr>\n",
       "    <tr>\n",
       "      <th>L3</th>\n",
       "      <td>Sylvain</td>\n",
       "      <td>35</td>\n",
       "    </tr>\n",
       "    <tr>\n",
       "      <th>L4</th>\n",
       "      <td>Thomas</td>\n",
       "      <td>40</td>\n",
       "    </tr>\n",
       "  </tbody>\n",
       "</table>\n",
       "</div>"
      ],
      "text/plain": [
       "     Prénom  Age\n",
       "L1   Sylvie   25\n",
       "L2   Gilles   30\n",
       "L3  Sylvain   35\n",
       "L4   Thomas   40"
      ]
     },
     "execution_count": 5,
     "metadata": {},
     "output_type": "execute_result"
    }
   ],
   "source": [
    "Dict = {\"Prénom\": [\"Sylvie\", \"Gilles\", \"Sylvain\", \"Thomas\"], \"Age\": [25, 30, 35, 40]}\n",
    "\n",
    "df = pd.DataFrame(Dict) #sans précision les index par defaut sont appliqués\n",
    "\n",
    "df\n",
    "\n",
    "df = pd.DataFrame(Dict, index=[\"L1\", \"L2\",\"L3\",\"L4\"])\n",
    "df"
   ]
  },
  {
   "cell_type": "code",
   "execution_count": 6,
   "id": "4e20d6d2",
   "metadata": {},
   "outputs": [
    {
     "data": {
      "text/html": [
       "<div>\n",
       "<style scoped>\n",
       "    .dataframe tbody tr th:only-of-type {\n",
       "        vertical-align: middle;\n",
       "    }\n",
       "\n",
       "    .dataframe tbody tr th {\n",
       "        vertical-align: top;\n",
       "    }\n",
       "\n",
       "    .dataframe thead th {\n",
       "        text-align: right;\n",
       "    }\n",
       "</style>\n",
       "<table border=\"1\" class=\"dataframe\">\n",
       "  <thead>\n",
       "    <tr style=\"text-align: right;\">\n",
       "      <th></th>\n",
       "      <th>Prénom</th>\n",
       "      <th>Age</th>\n",
       "    </tr>\n",
       "  </thead>\n",
       "  <tbody>\n",
       "    <tr>\n",
       "      <th>1</th>\n",
       "      <td>Sylvie</td>\n",
       "      <td>25</td>\n",
       "    </tr>\n",
       "    <tr>\n",
       "      <th>2</th>\n",
       "      <td>Gilles</td>\n",
       "      <td>30</td>\n",
       "    </tr>\n",
       "    <tr>\n",
       "      <th>3</th>\n",
       "      <td>Sylvain</td>\n",
       "      <td>35</td>\n",
       "    </tr>\n",
       "    <tr>\n",
       "      <th>4</th>\n",
       "      <td>Thomas</td>\n",
       "      <td>40</td>\n",
       "    </tr>\n",
       "  </tbody>\n",
       "</table>\n",
       "</div>"
      ],
      "text/plain": [
       "    Prénom  Age\n",
       "1   Sylvie   25\n",
       "2   Gilles   30\n",
       "3  Sylvain   35\n",
       "4   Thomas   40"
      ]
     },
     "execution_count": 6,
     "metadata": {},
     "output_type": "execute_result"
    }
   ],
   "source": [
    "DF = pd.DataFrame(Dict, index = range(1, 5))\n",
    "DF"
   ]
  },
  {
   "cell_type": "code",
   "execution_count": 7,
   "id": "1175b82d",
   "metadata": {},
   "outputs": [],
   "source": [
    "Dict = {\"Age\": pd.Series([25, 30, 35], index=[\"Sylvie\", \"Gilles\", \"Sylvain\"]),\n",
    "         \"Ville\": pd.Series([\"Lorient\", \"Angers\", \"Vannes\", \"Le Mans\"], index=[\"Sylvie\", \"Gilles\", \"Sylvain\", \"Thomas\"])}"
   ]
  },
  {
   "cell_type": "code",
   "execution_count": 8,
   "id": "b33fd91d",
   "metadata": {},
   "outputs": [
    {
     "data": {
      "text/html": [
       "<div>\n",
       "<style scoped>\n",
       "    .dataframe tbody tr th:only-of-type {\n",
       "        vertical-align: middle;\n",
       "    }\n",
       "\n",
       "    .dataframe tbody tr th {\n",
       "        vertical-align: top;\n",
       "    }\n",
       "\n",
       "    .dataframe thead th {\n",
       "        text-align: right;\n",
       "    }\n",
       "</style>\n",
       "<table border=\"1\" class=\"dataframe\">\n",
       "  <thead>\n",
       "    <tr style=\"text-align: right;\">\n",
       "      <th></th>\n",
       "      <th>Age</th>\n",
       "      <th>Ville</th>\n",
       "    </tr>\n",
       "  </thead>\n",
       "  <tbody>\n",
       "    <tr>\n",
       "      <th>Gilles</th>\n",
       "      <td>30.0</td>\n",
       "      <td>Angers</td>\n",
       "    </tr>\n",
       "    <tr>\n",
       "      <th>Sylvain</th>\n",
       "      <td>35.0</td>\n",
       "      <td>Vannes</td>\n",
       "    </tr>\n",
       "    <tr>\n",
       "      <th>Sylvie</th>\n",
       "      <td>25.0</td>\n",
       "      <td>Lorient</td>\n",
       "    </tr>\n",
       "    <tr>\n",
       "      <th>Thomas</th>\n",
       "      <td>NaN</td>\n",
       "      <td>Le Mans</td>\n",
       "    </tr>\n",
       "  </tbody>\n",
       "</table>\n",
       "</div>"
      ],
      "text/plain": [
       "          Age    Ville\n",
       "Gilles   30.0   Angers\n",
       "Sylvain  35.0   Vannes\n",
       "Sylvie   25.0  Lorient\n",
       "Thomas    NaN  Le Mans"
      ]
     },
     "execution_count": 8,
     "metadata": {},
     "output_type": "execute_result"
    }
   ],
   "source": [
    "df = pd.DataFrame(Dict)\n",
    "df\n"
   ]
  },
  {
   "cell_type": "code",
   "execution_count": 9,
   "id": "778cf792",
   "metadata": {},
   "outputs": [
    {
     "data": {
      "text/plain": [
       "Gilles     30.0\n",
       "Sylvain    35.0\n",
       "Sylvie     25.0\n",
       "Thomas      NaN\n",
       "Name: Age, dtype: float64"
      ]
     },
     "execution_count": 9,
     "metadata": {},
     "output_type": "execute_result"
    }
   ],
   "source": [
    "df[\"Age\"]"
   ]
  },
  {
   "cell_type": "code",
   "execution_count": 10,
   "id": "78124c75",
   "metadata": {},
   "outputs": [
    {
     "data": {
      "text/plain": [
       "Gilles     30.0\n",
       "Sylvain    35.0\n",
       "Sylvie     25.0\n",
       "Thomas      NaN\n",
       "Name: Age, dtype: float64"
      ]
     },
     "execution_count": 10,
     "metadata": {},
     "output_type": "execute_result"
    }
   ],
   "source": [
    "df.Age"
   ]
  },
  {
   "cell_type": "code",
   "execution_count": 17,
   "id": "37caf1b2",
   "metadata": {},
   "outputs": [
    {
     "name": "stdout",
     "output_type": "stream",
     "text": [
      "          Age    Ville\n",
      "Gilles   30.0   Angers\n",
      "Sylvain  35.0   Vannes\n",
      "Sylvie   25.0  Lorient\n",
      "Thomas   25.0  Le Mans\n",
      "**************\n",
      "Age        30.0\n",
      "Ville    Angers\n",
      "Name: Gilles, dtype: object\n",
      "**************\n",
      "Age        35.0\n",
      "Ville    Vannes\n",
      "Name: Sylvain, dtype: object\n",
      "**************\n",
      "Lorient\n",
      "**************\n",
      "**************\n",
      "**************\n"
     ]
    },
    {
     "name": "stderr",
     "output_type": "stream",
     "text": [
      "/tmp/ipykernel_11728/2814079575.py:13: SettingWithCopyWarning: \n",
      "A value is trying to be set on a copy of a slice from a DataFrame\n",
      "\n",
      "See the caveats in the documentation: https://pandas.pydata.org/pandas-docs/stable/user_guide/indexing.html#returning-a-view-versus-a-copy\n",
      "  df[\"Age\"].loc[\"Thomas\"] = 36\n"
     ]
    },
    {
     "data": {
      "text/html": [
       "<div>\n",
       "<style scoped>\n",
       "    .dataframe tbody tr th:only-of-type {\n",
       "        vertical-align: middle;\n",
       "    }\n",
       "\n",
       "    .dataframe tbody tr th {\n",
       "        vertical-align: top;\n",
       "    }\n",
       "\n",
       "    .dataframe thead th {\n",
       "        text-align: right;\n",
       "    }\n",
       "</style>\n",
       "<table border=\"1\" class=\"dataframe\">\n",
       "  <thead>\n",
       "    <tr style=\"text-align: right;\">\n",
       "      <th></th>\n",
       "      <th>Age</th>\n",
       "      <th>Ville</th>\n",
       "    </tr>\n",
       "  </thead>\n",
       "  <tbody>\n",
       "    <tr>\n",
       "      <th>Gilles</th>\n",
       "      <td>30.0</td>\n",
       "      <td>Angers</td>\n",
       "    </tr>\n",
       "    <tr>\n",
       "      <th>Sylvain</th>\n",
       "      <td>35.0</td>\n",
       "      <td>Vannes</td>\n",
       "    </tr>\n",
       "    <tr>\n",
       "      <th>Sylvie</th>\n",
       "      <td>25.0</td>\n",
       "      <td>Lorient</td>\n",
       "    </tr>\n",
       "    <tr>\n",
       "      <th>Thomas</th>\n",
       "      <td>36.0</td>\n",
       "      <td>Le Mans</td>\n",
       "    </tr>\n",
       "  </tbody>\n",
       "</table>\n",
       "</div>"
      ],
      "text/plain": [
       "          Age    Ville\n",
       "Gilles   30.0   Angers\n",
       "Sylvain  35.0   Vannes\n",
       "Sylvie   25.0  Lorient\n",
       "Thomas   36.0  Le Mans"
      ]
     },
     "execution_count": 17,
     "metadata": {},
     "output_type": "execute_result"
    }
   ],
   "source": [
    "print(df)\n",
    "print(\"**************\")\n",
    "print(df.loc['Gilles'])\n",
    "print(\"**************\")\n",
    "print(df.iloc[1])\n",
    "print(\"**************\")\n",
    "print(df[\"Ville\"][\"Sylvie\"])\n",
    "print(\"**************\")\n",
    "df[\"Ville\"].loc[\"Sylvie\"]\n",
    "print(\"**************\")\n",
    "df[\"Ville\"].iloc[2]\n",
    "print(\"**************\")\n",
    "df[\"Age\"].loc[\"Thomas\"] = 36\n",
    "df\n",
    "\n"
   ]
  },
  {
   "cell_type": "code",
   "execution_count": 18,
   "id": "16c66573",
   "metadata": {},
   "outputs": [
    {
     "data": {
      "text/html": [
       "<div>\n",
       "<style scoped>\n",
       "    .dataframe tbody tr th:only-of-type {\n",
       "        vertical-align: middle;\n",
       "    }\n",
       "\n",
       "    .dataframe tbody tr th {\n",
       "        vertical-align: top;\n",
       "    }\n",
       "\n",
       "    .dataframe thead th {\n",
       "        text-align: right;\n",
       "    }\n",
       "</style>\n",
       "<table border=\"1\" class=\"dataframe\">\n",
       "  <thead>\n",
       "    <tr style=\"text-align: right;\">\n",
       "      <th></th>\n",
       "      <th>Big data</th>\n",
       "      <th>Hadoop</th>\n",
       "      <th>Spark</th>\n",
       "      <th>Java</th>\n",
       "    </tr>\n",
       "  </thead>\n",
       "  <tbody>\n",
       "    <tr>\n",
       "      <th>Sylvie</th>\n",
       "      <td>11.0</td>\n",
       "      <td>18.0</td>\n",
       "      <td>15.0</td>\n",
       "      <td>18.0</td>\n",
       "    </tr>\n",
       "    <tr>\n",
       "      <th>Gilles</th>\n",
       "      <td>15.0</td>\n",
       "      <td>20.0</td>\n",
       "      <td>7.0</td>\n",
       "      <td>20.0</td>\n",
       "    </tr>\n",
       "    <tr>\n",
       "      <th>Sylvain</th>\n",
       "      <td>10.0</td>\n",
       "      <td>17.0</td>\n",
       "      <td>10.0</td>\n",
       "      <td>10.0</td>\n",
       "    </tr>\n",
       "    <tr>\n",
       "      <th>Thomas</th>\n",
       "      <td>10.0</td>\n",
       "      <td>18.0</td>\n",
       "      <td>20.0</td>\n",
       "      <td>8.0</td>\n",
       "    </tr>\n",
       "  </tbody>\n",
       "</table>\n",
       "</div>"
      ],
      "text/plain": [
       "         Big data  Hadoop  Spark  Java\n",
       "Sylvie       11.0    18.0   15.0  18.0\n",
       "Gilles       15.0    20.0    7.0  20.0\n",
       "Sylvain      10.0    17.0   10.0  10.0\n",
       "Thomas       10.0    18.0   20.0   8.0"
      ]
     },
     "execution_count": 18,
     "metadata": {},
     "output_type": "execute_result"
    }
   ],
   "source": [
    "df_notes = pd.DataFrame({\n",
    "         \"Big data\":  pd.Series([11.0, 15.0, 10.0,10.0], index=[\"Sylvie\", \"Gilles\", \"Sylvain\", \"Thomas\"]),\n",
    "         \"Hadoop\": pd.Series([18.0, 20.0, 17.0,18.0], index=[\"Sylvie\", \"Gilles\", \"Sylvain\", \"Thomas\"]),\n",
    "         \"Spark\": pd.Series([15.0, 7.0, 10.0,20.0], index=[\"Sylvie\", \"Gilles\", \"Sylvain\", \"Thomas\"]),\n",
    "         \"Java\": pd.Series([18.0, 20.0, 10.0,8.0], index=[\"Sylvie\", \"Gilles\", \"Sylvain\", \"Thomas\"])})\n",
    "df_notes"
   ]
  },
  {
   "cell_type": "code",
   "execution_count": 21,
   "id": "a79cc779",
   "metadata": {},
   "outputs": [
    {
     "data": {
      "text/plain": [
       "Sylvie     15.50\n",
       "Gilles     15.50\n",
       "Sylvain    11.75\n",
       "Thomas     14.00\n",
       "dtype: float64"
      ]
     },
     "execution_count": 21,
     "metadata": {},
     "output_type": "execute_result"
    }
   ],
   "source": [
    "df_notes.mean(axis=0) #moyenne sur les lignes par defaut"
   ]
  },
  {
   "cell_type": "code",
   "execution_count": 23,
   "id": "6c5cb402",
   "metadata": {},
   "outputs": [
    {
     "data": {
      "text/plain": [
       "Sylvie     15.50\n",
       "Gilles     15.50\n",
       "Sylvain    11.75\n",
       "Thomas     14.00\n",
       "dtype: float64"
      ]
     },
     "execution_count": 23,
     "metadata": {},
     "output_type": "execute_result"
    }
   ],
   "source": [
    "df_notes.mean(axis=1)  #moyenne sur les colonnes"
   ]
  },
  {
   "cell_type": "code",
   "execution_count": 24,
   "id": "77192bf1",
   "metadata": {},
   "outputs": [
    {
     "data": {
      "text/plain": [
       "14.1875"
      ]
     },
     "execution_count": 24,
     "metadata": {},
     "output_type": "execute_result"
    }
   ],
   "source": [
    "df_notes.mean(axis=0).mean()"
   ]
  },
  {
   "cell_type": "code",
   "execution_count": 26,
   "id": "1302c94b",
   "metadata": {},
   "outputs": [
    {
     "data": {
      "text/plain": [
       "Sylvie     11.0\n",
       "Gilles      7.0\n",
       "Sylvain    10.0\n",
       "Thomas      8.0\n",
       "dtype: float64"
      ]
     },
     "execution_count": 26,
     "metadata": {},
     "output_type": "execute_result"
    }
   ],
   "source": [
    "df_notes.min(axis=0) # pour avoir la plus faibleote dans les matieres\n",
    "\n",
    "df_notes.min(axis=1) #pour avoir la plus petite note par individus"
   ]
  },
  {
   "cell_type": "code",
   "execution_count": 30,
   "id": "9f5f3d3b",
   "metadata": {},
   "outputs": [
    {
     "data": {
      "text/html": [
       "<div>\n",
       "<style scoped>\n",
       "    .dataframe tbody tr th:only-of-type {\n",
       "        vertical-align: middle;\n",
       "    }\n",
       "\n",
       "    .dataframe tbody tr th {\n",
       "        vertical-align: top;\n",
       "    }\n",
       "\n",
       "    .dataframe thead th {\n",
       "        text-align: right;\n",
       "    }\n",
       "</style>\n",
       "<table border=\"1\" class=\"dataframe\">\n",
       "  <thead>\n",
       "    <tr style=\"text-align: right;\">\n",
       "      <th></th>\n",
       "      <th>Big data</th>\n",
       "      <th>Hadoop</th>\n",
       "      <th>Spark</th>\n",
       "      <th>Java</th>\n",
       "    </tr>\n",
       "  </thead>\n",
       "  <tbody>\n",
       "    <tr>\n",
       "      <th>count</th>\n",
       "      <td>4.000000</td>\n",
       "      <td>4.000000</td>\n",
       "      <td>4.000000</td>\n",
       "      <td>4.000000</td>\n",
       "    </tr>\n",
       "    <tr>\n",
       "      <th>mean</th>\n",
       "      <td>11.500000</td>\n",
       "      <td>18.250000</td>\n",
       "      <td>13.000000</td>\n",
       "      <td>14.000000</td>\n",
       "    </tr>\n",
       "    <tr>\n",
       "      <th>std</th>\n",
       "      <td>2.380476</td>\n",
       "      <td>1.258306</td>\n",
       "      <td>5.715476</td>\n",
       "      <td>5.887841</td>\n",
       "    </tr>\n",
       "    <tr>\n",
       "      <th>min</th>\n",
       "      <td>10.000000</td>\n",
       "      <td>17.000000</td>\n",
       "      <td>7.000000</td>\n",
       "      <td>8.000000</td>\n",
       "    </tr>\n",
       "    <tr>\n",
       "      <th>25%</th>\n",
       "      <td>10.000000</td>\n",
       "      <td>17.750000</td>\n",
       "      <td>9.250000</td>\n",
       "      <td>9.500000</td>\n",
       "    </tr>\n",
       "    <tr>\n",
       "      <th>50%</th>\n",
       "      <td>10.500000</td>\n",
       "      <td>18.000000</td>\n",
       "      <td>12.500000</td>\n",
       "      <td>14.000000</td>\n",
       "    </tr>\n",
       "    <tr>\n",
       "      <th>75%</th>\n",
       "      <td>12.000000</td>\n",
       "      <td>18.500000</td>\n",
       "      <td>16.250000</td>\n",
       "      <td>18.500000</td>\n",
       "    </tr>\n",
       "    <tr>\n",
       "      <th>max</th>\n",
       "      <td>15.000000</td>\n",
       "      <td>20.000000</td>\n",
       "      <td>20.000000</td>\n",
       "      <td>20.000000</td>\n",
       "    </tr>\n",
       "  </tbody>\n",
       "</table>\n",
       "</div>"
      ],
      "text/plain": [
       "        Big data     Hadoop      Spark       Java\n",
       "count   4.000000   4.000000   4.000000   4.000000\n",
       "mean   11.500000  18.250000  13.000000  14.000000\n",
       "std     2.380476   1.258306   5.715476   5.887841\n",
       "min    10.000000  17.000000   7.000000   8.000000\n",
       "25%    10.000000  17.750000   9.250000   9.500000\n",
       "50%    10.500000  18.000000  12.500000  14.000000\n",
       "75%    12.000000  18.500000  16.250000  18.500000\n",
       "max    15.000000  20.000000  20.000000  20.000000"
      ]
     },
     "execution_count": 30,
     "metadata": {},
     "output_type": "execute_result"
    }
   ],
   "source": [
    "#Statistque descriptive\n",
    "df_notes.describe()\n"
   ]
  },
  {
   "cell_type": "code",
   "execution_count": 33,
   "id": "b4dc5e22",
   "metadata": {},
   "outputs": [
    {
     "data": {
      "text/html": [
       "<div>\n",
       "<style scoped>\n",
       "    .dataframe tbody tr th:only-of-type {\n",
       "        vertical-align: middle;\n",
       "    }\n",
       "\n",
       "    .dataframe tbody tr th {\n",
       "        vertical-align: top;\n",
       "    }\n",
       "\n",
       "    .dataframe thead th {\n",
       "        text-align: right;\n",
       "    }\n",
       "</style>\n",
       "<table border=\"1\" class=\"dataframe\">\n",
       "  <thead>\n",
       "    <tr style=\"text-align: right;\">\n",
       "      <th></th>\n",
       "      <th>Big data</th>\n",
       "      <th>Hadoop</th>\n",
       "      <th>Spark</th>\n",
       "      <th>Java</th>\n",
       "    </tr>\n",
       "  </thead>\n",
       "  <tbody>\n",
       "    <tr>\n",
       "      <th>Sylvie</th>\n",
       "      <td>11.0</td>\n",
       "      <td>18.0</td>\n",
       "      <td>15.0</td>\n",
       "      <td>18.0</td>\n",
       "    </tr>\n",
       "    <tr>\n",
       "      <th>Gilles</th>\n",
       "      <td>15.0</td>\n",
       "      <td>20.0</td>\n",
       "      <td>7.0</td>\n",
       "      <td>20.0</td>\n",
       "    </tr>\n",
       "    <tr>\n",
       "      <th>Sylvain</th>\n",
       "      <td>10.0</td>\n",
       "      <td>17.0</td>\n",
       "      <td>10.0</td>\n",
       "      <td>10.0</td>\n",
       "    </tr>\n",
       "    <tr>\n",
       "      <th>Thomas</th>\n",
       "      <td>10.0</td>\n",
       "      <td>18.0</td>\n",
       "      <td>20.0</td>\n",
       "      <td>8.0</td>\n",
       "    </tr>\n",
       "  </tbody>\n",
       "</table>\n",
       "</div>"
      ],
      "text/plain": [
       "         Big data  Hadoop  Spark  Java\n",
       "Sylvie       11.0    18.0   15.0  18.0\n",
       "Gilles       15.0    20.0    7.0  20.0\n",
       "Sylvain      10.0    17.0   10.0  10.0\n",
       "Thomas       10.0    18.0   20.0   8.0"
      ]
     },
     "execution_count": 33,
     "metadata": {},
     "output_type": "execute_result"
    }
   ],
   "source": [
    "df_notes"
   ]
  },
  {
   "cell_type": "code",
   "execution_count": 37,
   "id": "884d29f9",
   "metadata": {},
   "outputs": [
    {
     "name": "stdout",
     "output_type": "stream",
     "text": [
      "**************\n"
     ]
    },
    {
     "data": {
      "text/html": [
       "<div>\n",
       "<style scoped>\n",
       "    .dataframe tbody tr th:only-of-type {\n",
       "        vertical-align: middle;\n",
       "    }\n",
       "\n",
       "    .dataframe tbody tr th {\n",
       "        vertical-align: top;\n",
       "    }\n",
       "\n",
       "    .dataframe thead th {\n",
       "        text-align: right;\n",
       "    }\n",
       "</style>\n",
       "<table border=\"1\" class=\"dataframe\">\n",
       "  <thead>\n",
       "    <tr style=\"text-align: right;\">\n",
       "      <th></th>\n",
       "      <th>Big data</th>\n",
       "      <th>Hadoop</th>\n",
       "      <th>Spark</th>\n",
       "      <th>Java</th>\n",
       "    </tr>\n",
       "  </thead>\n",
       "  <tbody>\n",
       "    <tr>\n",
       "      <th>Sylvie</th>\n",
       "      <td>11.0</td>\n",
       "      <td>18.0</td>\n",
       "      <td>15.0</td>\n",
       "      <td>18.0</td>\n",
       "    </tr>\n",
       "    <tr>\n",
       "      <th>Gilles</th>\n",
       "      <td>15.0</td>\n",
       "      <td>20.0</td>\n",
       "      <td>7.0</td>\n",
       "      <td>20.0</td>\n",
       "    </tr>\n",
       "  </tbody>\n",
       "</table>\n",
       "</div>"
      ],
      "text/plain": [
       "        Big data  Hadoop  Spark  Java\n",
       "Sylvie      11.0    18.0   15.0  18.0\n",
       "Gilles      15.0    20.0    7.0  20.0"
      ]
     },
     "execution_count": 37,
     "metadata": {},
     "output_type": "execute_result"
    }
   ],
   "source": [
    "#les masques en python\n",
    "df_notes[\"Java\"] >= 15\n",
    "print(\"**************\")\n",
    "df_notes[df_notes[\"Java\"]>=15]\n",
    "\n",
    "#print(\"**************\")\n",
    "#df_notes[df_notes[\"Java\"]>=15][\"Java\"]"
   ]
  },
  {
   "cell_type": "code",
   "execution_count": null,
   "id": "e28f99e5",
   "metadata": {},
   "outputs": [],
   "source": [
    "print(\"**************\")\n",
    "df_notes[(df_notes[\"Java\"]>=15) & (df_notes[\"Spark\"]>=10) ]"
   ]
  },
  {
   "cell_type": "code",
   "execution_count": null,
   "id": "9219737d",
   "metadata": {},
   "outputs": [],
   "source": []
  }
 ],
 "metadata": {
  "kernelspec": {
   "display_name": "Python 3 (ipykernel)",
   "language": "python",
   "name": "python3"
  },
  "language_info": {
   "codemirror_mode": {
    "name": "ipython",
    "version": 3
   },
   "file_extension": ".py",
   "mimetype": "text/x-python",
   "name": "python",
   "nbconvert_exporter": "python",
   "pygments_lexer": "ipython3",
   "version": "3.11.4"
  }
 },
 "nbformat": 4,
 "nbformat_minor": 5
}
