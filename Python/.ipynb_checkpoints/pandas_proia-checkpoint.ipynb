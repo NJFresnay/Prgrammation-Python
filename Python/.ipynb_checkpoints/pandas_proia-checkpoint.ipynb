{
 "cells": [
  {
   "cell_type": "code",
   "execution_count": 1,
   "id": "fcb9d9a5",
   "metadata": {},
   "outputs": [],
   "source": [
    "import pandas as pd\n",
    "import numpy as np\n",
    "import matplotlib.pyplot as plt"
   ]
  },
  {
   "cell_type": "code",
   "execution_count": 10,
   "id": "49a785c0",
   "metadata": {},
   "outputs": [
    {
     "name": "stdout",
     "output_type": "stream",
     "text": [
      "Maths      19\n",
      "Anglais    12\n",
      "Geo        14\n",
      "dtype: int64\n",
      "Index(['Maths', 'Anglais', 'Geo'], dtype='object')\n",
      "\n",
      "[19 12 14]\n",
      "\n",
      "Meilleur note 19\n",
      "\n",
      "\n"
     ]
    },
    {
     "data": {
      "text/plain": [
       "14"
      ]
     },
     "execution_count": 10,
     "metadata": {},
     "output_type": "execute_result"
    }
   ],
   "source": [
    "notes = {\"Maths\": 19, \"Anglais\": 12, \"Geo\":14}\n",
    "serie = pd.Series(notes)\n",
    "print(serie)\n",
    "\n",
    "print(serie.index) # retourne les valeurs\n",
    "print()\n",
    "print(serie.values) # retourne les valeurs de la serie\n",
    "print()\n",
    "print(\"Meilleur note {}\".format(serie[\"Maths\"]))\n",
    "print()\n",
    "\"histoire\" in serie #pour verifier si histoire est present dans la liste\n",
    "print()\n",
    "serie[\"Geo\"] # retourne la valeur de la cle geo"
   ]
  },
  {
   "cell_type": "code",
   "execution_count": 13,
   "id": "85b96c6d",
   "metadata": {},
   "outputs": [],
   "source": [
    "Ser = pd.Series(np.array([15000,74896,45783,25586]), index=[\"Angers\",\"Nantes\",\"Rennes\",\"Brest\"])\n",
    "\n",
    "ser = pd.Series(1.5, index=[\"11\", \"12\",\"13\",\"14\"])"
   ]
  },
  {
   "cell_type": "code",
   "execution_count": 15,
   "id": "59b872fe",
   "metadata": {},
   "outputs": [
    {
     "name": "stdout",
     "output_type": "stream",
     "text": [
      "Angers    15000\n",
      "Nantes    74896\n",
      "Rennes    45783\n",
      "Brest     25586\n",
      "Name: Nombre d'habitants, dtype: int64\n"
     ]
    }
   ],
   "source": [
    "Data = np.array([15000,74896,45783,25586])\n",
    "Ser = pd.Series(Data, index=[\"Angers\",\"Nantes\",\"Rennes\",\"Brest\"], name=\"Nombre d'habitants\")\n",
    "print(Ser)"
   ]
  },
  {
   "cell_type": "code",
   "execution_count": 24,
   "id": "a69ff8a2",
   "metadata": {},
   "outputs": [
    {
     "name": "stdout",
     "output_type": "stream",
     "text": [
      "Maths       19\n",
      "Anglais     12\n",
      "Geo         14\n",
      "Français    13\n",
      "dtype: int64\n",
      "****************************\n",
      "14\n",
      "****************************\n",
      "Geo         14\n",
      "Français    13\n",
      "dtype: int64\n",
      "****************************\n",
      "Maths      19\n",
      "Anglais    12\n",
      "Geo        14\n",
      "dtype: int64\n"
     ]
    }
   ],
   "source": [
    "Ser = pd.Series(notes)\n",
    "Ser[\"Français\"]=13 #ajout un element a la serie\n",
    "print(Ser)\n",
    "print(\"****************************\")\n",
    "print(Ser[-2])\n",
    "print(\"****************************\")\n",
    "print(Ser[2:])\n",
    "print(\"****************************\")\n",
    "print(Ser[\"Maths\": \"Geo\"])"
   ]
  },
  {
   "cell_type": "code",
   "execution_count": 31,
   "id": "3807919b",
   "metadata": {},
   "outputs": [
    {
     "name": "stdout",
     "output_type": "stream",
     "text": [
      "1        France\n",
      "2        Italie\n",
      "3       Espagne\n",
      "5     Allemagne\n",
      "6    Angleterre\n",
      "dtype: object\n",
      "****************************\n",
      "****************************\n"
     ]
    }
   ],
   "source": [
    "Pays = pd.Series([\"France\", \"Italie\",\"Espagne\",\"Allemagne\",\"Angleterre\"], index=[1,2,3,5,6])\n",
    "print(Pays)\n",
    "print(\"****************************\")\n",
    "Pays[2]\n",
    "print(\"****************************\")"
   ]
  },
  {
   "cell_type": "code",
   "execution_count": 32,
   "id": "049cfe87",
   "metadata": {},
   "outputs": [
    {
     "data": {
      "text/plain": [
       "'Espagne'"
      ]
     },
     "execution_count": 32,
     "metadata": {},
     "output_type": "execute_result"
    }
   ],
   "source": [
    "Pays.iloc[2] # acces par l'index\n"
   ]
  },
  {
   "cell_type": "code",
   "execution_count": 33,
   "id": "1e4952fc",
   "metadata": {},
   "outputs": [
    {
     "data": {
      "text/plain": [
       "'Italie'"
      ]
     },
     "execution_count": 33,
     "metadata": {},
     "output_type": "execute_result"
    }
   ],
   "source": [
    "Pays.loc[2] #acces par les clé\n"
   ]
  },
  {
   "cell_type": "code",
   "execution_count": 34,
   "id": "20b055c2",
   "metadata": {},
   "outputs": [
    {
     "data": {
      "text/plain": [
       "Maths      19\n",
       "Anglais    12\n",
       "Geo        14\n",
       "Musique    15\n",
       "dtype: int64"
      ]
     },
     "execution_count": 34,
     "metadata": {},
     "output_type": "execute_result"
    }
   ],
   "source": [
    "Ser1 = pd.Series(notes)\n",
    "Ser2 = pd.Series({\"Musique\": 15})\n",
    "\n",
    "pd.concat([Ser1,Ser2])"
   ]
  },
  {
   "cell_type": "code",
   "execution_count": 36,
   "id": "efcfaf9c",
   "metadata": {},
   "outputs": [
    {
     "name": "stdout",
     "output_type": "stream",
     "text": [
      "Maths      19\n",
      "Anglais    12\n",
      "dtype: int64\n"
     ]
    }
   ],
   "source": [
    "Ser1.drop(\"Geo\",inplace=True)\n",
    "print(Ser1)\n",
    "Ser1 = Ser1.drop(\"Maths\")"
   ]
  },
  {
   "cell_type": "code",
   "execution_count": null,
   "id": "38b691c7",
   "metadata": {},
   "outputs": [],
   "source": []
  },
  {
   "cell_type": "code",
   "execution_count": null,
   "id": "935a2742",
   "metadata": {},
   "outputs": [],
   "source": []
  },
  {
   "cell_type": "code",
   "execution_count": null,
   "id": "3b79c17f",
   "metadata": {},
   "outputs": [],
   "source": []
  },
  {
   "cell_type": "code",
   "execution_count": null,
   "id": "02bcc881",
   "metadata": {},
   "outputs": [],
   "source": []
  },
  {
   "cell_type": "code",
   "execution_count": null,
   "id": "4ec17156",
   "metadata": {},
   "outputs": [],
   "source": []
  },
  {
   "cell_type": "code",
   "execution_count": null,
   "id": "02fde30c",
   "metadata": {},
   "outputs": [],
   "source": []
  }
 ],
 "metadata": {
  "kernelspec": {
   "display_name": "Python 3 (ipykernel)",
   "language": "python",
   "name": "python3"
  },
  "language_info": {
   "codemirror_mode": {
    "name": "ipython",
    "version": 3
   },
   "file_extension": ".py",
   "mimetype": "text/x-python",
   "name": "python",
   "nbconvert_exporter": "python",
   "pygments_lexer": "ipython3",
   "version": "3.11.4"
  }
 },
 "nbformat": 4,
 "nbformat_minor": 5
}
