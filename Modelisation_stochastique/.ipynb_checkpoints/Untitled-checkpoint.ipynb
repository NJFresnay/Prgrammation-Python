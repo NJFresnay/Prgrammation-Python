{
 "cells": [
  {
   "cell_type": "code",
   "execution_count": 1,
   "id": "86756dd3",
   "metadata": {},
   "outputs": [],
   "source": [
    "import numpy as np\n",
    "import matplotlib.pyplot as plt"
   ]
  },
  {
   "cell_type": "code",
   "execution_count": 15,
   "id": "1345be2d",
   "metadata": {},
   "outputs": [
    {
     "data": {
      "text/plain": [
       "(array([0.        , 0.        , 0.        , 0.        , 0.        ,\n",
       "        0.        , 0.        , 0.        , 0.        , 0.        ,\n",
       "        0.        , 0.        , 0.        , 0.        , 0.        ,\n",
       "        0.        , 0.        , 0.        , 0.        , 0.        ,\n",
       "        0.        , 0.        , 0.        , 0.        , 0.        ,\n",
       "        0.        , 0.        , 0.        , 0.        , 0.        ,\n",
       "        0.        , 0.        , 0.        , 1.08229177, 1.06249375,\n",
       "        1.00969903, 0.96350365, 1.08559144, 0.980002  , 0.92060794,\n",
       "        0.89751025, 1.01959804, 0.85791421, 0.96020398, 1.01959804,\n",
       "        0.94370563, 0.94370563, 1.00639936, 1.0129987 , 0.93050695,\n",
       "        0.99650035, 1.02289771, 1.01629837, 1.04269573, 0.98330167,\n",
       "        0.98660134, 1.05259474, 1.08889111, 1.08229177, 1.00639936,\n",
       "        1.01959804, 1.05919408, 1.13838616, 1.0129987 , 0.89421058,\n",
       "        0.90080992, 0.        , 0.        , 0.        , 0.        ,\n",
       "        0.        , 0.        , 0.        , 0.        , 0.        ,\n",
       "        0.        , 0.        , 0.        , 0.        , 0.        ,\n",
       "        0.        , 0.        , 0.        , 0.        , 0.        ,\n",
       "        0.        , 0.        , 0.        , 0.        , 0.        ,\n",
       "        0.        , 0.        , 0.        , 0.        , 0.        ,\n",
       "        0.        , 0.        , 0.        , 0.        ]),\n",
       " array([-1.        , -0.96969697, -0.93939394, -0.90909091, -0.87878788,\n",
       "        -0.84848485, -0.81818182, -0.78787879, -0.75757576, -0.72727273,\n",
       "        -0.6969697 , -0.66666667, -0.63636364, -0.60606061, -0.57575758,\n",
       "        -0.54545455, -0.51515152, -0.48484848, -0.45454545, -0.42424242,\n",
       "        -0.39393939, -0.36363636, -0.33333333, -0.3030303 , -0.27272727,\n",
       "        -0.24242424, -0.21212121, -0.18181818, -0.15151515, -0.12121212,\n",
       "        -0.09090909, -0.06060606, -0.03030303,  0.        ,  0.03030303,\n",
       "         0.06060606,  0.09090909,  0.12121212,  0.15151515,  0.18181818,\n",
       "         0.21212121,  0.24242424,  0.27272727,  0.3030303 ,  0.33333333,\n",
       "         0.36363636,  0.39393939,  0.42424242,  0.45454545,  0.48484848,\n",
       "         0.51515152,  0.54545455,  0.57575758,  0.60606061,  0.63636364,\n",
       "         0.66666667,  0.6969697 ,  0.72727273,  0.75757576,  0.78787879,\n",
       "         0.81818182,  0.84848485,  0.87878788,  0.90909091,  0.93939394,\n",
       "         0.96969697,  1.        ,  1.03030303,  1.06060606,  1.09090909,\n",
       "         1.12121212,  1.15151515,  1.18181818,  1.21212121,  1.24242424,\n",
       "         1.27272727,  1.3030303 ,  1.33333333,  1.36363636,  1.39393939,\n",
       "         1.42424242,  1.45454545,  1.48484848,  1.51515152,  1.54545455,\n",
       "         1.57575758,  1.60606061,  1.63636364,  1.66666667,  1.6969697 ,\n",
       "         1.72727273,  1.75757576,  1.78787879,  1.81818182,  1.84848485,\n",
       "         1.87878788,  1.90909091,  1.93939394,  1.96969697,  2.        ]),\n",
       " <BarContainer object of 99 artists>)"
      ]
     },
     "execution_count": 15,
     "metadata": {},
     "output_type": "execute_result"
    },
    {
     "data": {
      "image/png": "[encoded data removed]",
      "text/plain": [
       "<Figure size 640x480 with 1 Axes>"
      ]
     },
     "metadata": {},
     "output_type": "display_data"
    }
   ],
   "source": [
    "a = 16807; b = 0; N = (2**31) -1\n",
    "U = np.random.rand()\n",
    "y0 = int(N*U)\n",
    "x0 = y0/N\n",
    "X =[x0]\n",
    "Y = [y0]\n",
    "n = 10**4\n",
    "for i in range(0,n):\n",
    "    y = (a*y0 + b) % N\n",
    "    Y.append(y)\n",
    "    x = y / N\n",
    "    X.append(x)\n",
    "    y0 = y\n",
    "    x0 = x\n",
    "absc= np.linspace(-1,2,100)\n",
    "plt.hist(X, bins=absc, density=True)\n",
    "#print(X)"
   ]
  },
  {
   "cell_type": "code",
   "execution_count": 4,
   "id": "45bbbc75",
   "metadata": {},
   "outputs": [
    {
     "name": "stdout",
     "output_type": "stream",
     "text": [
      "[292885082.17301124, 487057157.7998047, 1909472424.3173828, 507414734.25390625, 461876368.40234375, 1750223480.1914062, 1922518617.9648438, 731459373.1289062, 1441288749.5273438, 124475146.06640625, 404707760.08984375, 842613781.0039062, 1302649014.6523438, 26208096.94140625, 245337659.21484375, 221436183.87890625, 88782201.77734375, 1808814253.8164062, 962656960.3398438, 233735933.75390625, 652248238.9023438]\n"
     ]
    }
   ],
   "source": [
    "print(Y)"
   ]
  },
  {
   "cell_type": "markdown",
   "id": "98be52ee",
   "metadata": {},
   "source": [
    "## EXERCICE 3:"
   ]
  },
  {
   "cell_type": "markdown",
   "id": "9aa4abb8",
   "metadata": {},
   "source": [
    "### Simulation de la loi de Poisson"
   ]
  },
  {
   "cell_type": "code",
   "execution_count": 34,
   "id": "f7a766c5",
   "metadata": {},
   "outputs": [
    {
     "data": {
      "text/plain": [
       "[1]"
      ]
     },
     "execution_count": 34,
     "metadata": {},
     "output_type": "execute_result"
    }
   ],
   "source": [
    "#from math import exp\n",
    "\n",
    "U = np.random.rand()\n",
    "lamb = 0.5\n",
    "k = 1\n",
    "p0 = np.exp(-lamb)\n",
    "P = p0\n",
    "v=[]\n",
    "\n",
    "for i in range(50):\n",
    "    factorielle = lambda n: n * factorielle(n-1) if n != 0 else 1\n",
    "\n",
    "    p = np.exp(-lamb) * (lamb**i)/ factorielle(i)\n",
    "    while U > P:\n",
    "        P = P + p\n",
    "        v.append(k)\n",
    "        k += 1\n",
    "\n",
    "v"
   ]
  },
  {
   "cell_type": "code",
   "execution_count": 42,
   "id": "96cfae74",
   "metadata": {},
   "outputs": [
    {
     "data": {
      "text/plain": [
       "(array([1.1946e+00, 0.0000e+00, 6.1060e-01, 0.0000e+00, 1.6420e-01,\n",
       "        0.0000e+00, 2.7200e-02, 0.0000e+00, 3.2000e-03, 2.0000e-04]),\n",
       " array([0. , 0.5, 1. , 1.5, 2. , 2.5, 3. , 3.5, 4. , 4.5, 5. ]),\n",
       " <BarContainer object of 10 artists>)"
      ]
     },
     "execution_count": 42,
     "metadata": {},
     "output_type": "execute_result"
    },
    {
     "data": {
      "image/png": "[encoded data removed]",
      "text/plain": [
       "<Figure size 640x480 with 1 Axes>"
      ]
     },
     "metadata": {},
     "output_type": "display_data"
    }
   ],
   "source": [
    "def PoissonRandom(lamb, N):\n",
    "    p0 = np.exp(-lamb)\n",
    "    v=[]\n",
    "\n",
    "    for i in range(N):\n",
    "        U = np.random.rand()\n",
    "        P = p0\n",
    "        lambdakSurKFactorielle = 1\n",
    "        k = 0\n",
    "        while U > P:\n",
    "            k+=1\n",
    "            lambdakSurKFactorielle *= lamb /k \n",
    "            P += lambdakSurKFactorielle* p0\n",
    "        v.append(k)\n",
    "    return v\n",
    "\n",
    "plt.hist(PoissonRandom(0.5,n), density=True)\n",
    "plt.barplot(PoissonRandom(0.5,n), width=0.8, align='center')"
   ]
  },
  {
   "cell_type": "code",
   "execution_count": null,
   "id": "99d3b8c8",
   "metadata": {},
   "outputs": [],
   "source": [
    "# question 2: N = 10000, lambda=0, plt.barplot()\n"
   ]
  },
  {
   "cell_type": "markdown",
   "id": "896649ef",
   "metadata": {},
   "source": [
    " ### Exercice sur la méthode de rejet: exo personnel"
   ]
  },
  {
   "cell_type": "code",
   "execution_count": null,
   "id": "9e5416c6",
   "metadata": {},
   "outputs": [],
   "source": [
    "def F(x):\n",
    "    return x[0]**2 + x[1]**2 - 1\n",
    "\n",
    "def MethodeDeRejet(F, a, b, c, d, N):\n",
    "    U = np.random.rand()\n",
    "    while F(x)\n",
    "    "
   ]
  },
  {
   "cell_type": "code",
   "execution_count": null,
   "id": "4487a271",
   "metadata": {},
   "outputs": [],
   "source": []
  }
 ],
 "metadata": {
  "kernelspec": {
   "display_name": "Python 3 (ipykernel)",
   "language": "python",
   "name": "python3"
  },
  "language_info": {
   "codemirror_mode": {
    "name": "ipython",
    "version": 3
   },
   "file_extension": ".py",
   "mimetype": "text/x-python",
   "name": "python",
   "nbconvert_exporter": "python",
   "pygments_lexer": "ipython3",
   "version": "3.11.4"
  }
 },
 "nbformat": 4,
 "nbformat_minor": 5
}
